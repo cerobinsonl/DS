{
 "cells": [
  {
   "cell_type": "code",
   "execution_count": null,
   "metadata": {},
   "outputs": [],
   "source": [
    "import pandas as pd\n",
    "import tensorflow as tf\n",
    "import matplotlib.pyplot as plt\n",
    "import seaborn as sns\n",
    "sns.set()"
   ]
  },
  {
   "cell_type": "code",
   "execution_count": null,
   "metadata": {},
   "outputs": [],
   "source": [
    "# Read in the insurance dataset\n",
    "insurance = pd.read_csv('https://raw.githubusercontent.com/stedy/Machine-Learning-with-R-datasets/master/insurance.csv')\n",
    "insurance"
   ]
  },
  {
   "cell_type": "code",
   "execution_count": null,
   "metadata": {},
   "outputs": [],
   "source": [
    "# One hot enconding\n",
    "insurance_one_hot = pd.get_dummies(insurance)\n",
    "insurance_one_hot"
   ]
  },
  {
   "cell_type": "code",
   "execution_count": null,
   "metadata": {},
   "outputs": [],
   "source": [
    "# Create X and y\n",
    "y = insurance_one_hot['charges']\n",
    "X = insurance_one_hot.drop('charges', axis=1)"
   ]
  },
  {
   "cell_type": "code",
   "execution_count": null,
   "metadata": {},
   "outputs": [],
   "source": [
    "# Split data\n",
    "from sklearn.model_selection import train_test_split\n",
    "X_train, X_test, y_train, y_test = train_test_split(X,y,test_size=0.2, random_state=42)"
   ]
  },
  {
   "cell_type": "code",
   "execution_count": null,
   "metadata": {},
   "outputs": [],
   "source": [
    "from tensorflow.keras.utils import plot_model"
   ]
  },
  {
   "cell_type": "code",
   "execution_count": null,
   "metadata": {},
   "outputs": [],
   "source": [
    "# Create a model\n",
    "tf.random.set_seed(42)\n",
    "\n",
    "# 1. Create the model\n",
    "insurance_model = tf.keras.Sequential([\n",
    "    tf.keras.layers.Dense(10,name='Hidden'),\n",
    "    tf.keras.layers.Dense(1,name ='Output')\n",
    "],name='Insurance_model')\n",
    "\n",
    "# 2. Compile the model\n",
    "insurance_model.compile(\n",
    "    loss=tf.keras.losses.mae,\n",
    "    optimizer = tf.keras.optimizers.SGD(),\n",
    "    metrics = ['mae']\n",
    ")\n",
    "\n",
    "# 3. Fit the model\n",
    "insurance_model.fit(X_train,y_train,epochs = 100, verbose=0)\n",
    "\n",
    "#4. Visualize the model\n",
    "plot_model(insurance_model,show_shapes = True)"
   ]
  },
  {
   "cell_type": "code",
   "execution_count": null,
   "metadata": {},
   "outputs": [],
   "source": [
    "# 5. Check the results on the test data\n",
    "insurance_model.evaluate(X_test,y_test)"
   ]
  },
  {
   "cell_type": "code",
   "execution_count": null,
   "metadata": {},
   "outputs": [],
   "source": [
    "y_train.median(), y_train.mean(), y_train.std()"
   ]
  },
  {
   "cell_type": "code",
   "execution_count": null,
   "metadata": {},
   "outputs": [],
   "source": [
    "# 6. Improving the model\n",
    "\n",
    "tf.random.set_seed(42)\n",
    "\n",
    "# Create the model\n",
    "insurance_model_2 = tf.keras.Sequential([\n",
    "    tf.keras.layers.Dense(10,name='Hidden_1'),\n",
    "    tf.keras.layers.Dense(100,name='Hidden_2'),\n",
    "    tf.keras.layers.Dense(1,name='Output')\n",
    "],'Insurance_model_2')\n",
    "\n",
    "# Compile the model\n",
    "insurance_model_2.compile(\n",
    "    loss = tf.keras.losses.mae,\n",
    "    optimizer = tf.keras.optimizers.Adam(),\n",
    "    metrics = ['mae']\n",
    ")\n",
    "\n",
    "# Fit the model\n",
    "history = insurance_model_2.fit(X_train,y_train, epochs=500)\n",
    "\n",
    "# Visualize the model\n",
    "plot_model(insurance_model_2,show_layer_names=True,show_shapes=True)\n"
   ]
  },
  {
   "cell_type": "code",
   "execution_count": null,
   "metadata": {},
   "outputs": [],
   "source": [
    "# Check the results\n",
    "insurance_model_2.evaluate(X_test,y_test)"
   ]
  },
  {
   "cell_type": "code",
   "execution_count": null,
   "metadata": {},
   "outputs": [],
   "source": [
    "insurance_model.evaluate(X_test,y_test)"
   ]
  },
  {
   "cell_type": "code",
   "execution_count": null,
   "metadata": {},
   "outputs": [],
   "source": [
    "# Visualize the loss of the model per epoch\n",
    "pd.DataFrame(history.history).plot()\n",
    "plt.ylabel(\"Loss\")\n",
    "plt.xlabel(\"Epoch\")"
   ]
  },
  {
   "cell_type": "markdown",
   "metadata": {},
   "source": [
    " How long should I train for? -> EarlyStopping callback"
   ]
  },
  {
   "cell_type": "markdown",
   "metadata": {},
   "source": [
    "### Preprossesing data (Normalization and Standardization)\n"
   ]
  },
  {
   "cell_type": "code",
   "execution_count": null,
   "metadata": {},
   "outputs": [],
   "source": [
    "X"
   ]
  },
  {
   "cell_type": "code",
   "execution_count": null,
   "metadata": {},
   "outputs": [],
   "source": [
    "X['age'].plot(kind='hist')"
   ]
  },
  {
   "cell_type": "code",
   "execution_count": null,
   "metadata": {},
   "outputs": [],
   "source": [
    "X['bmi'].plot(kind='hist')"
   ]
  },
  {
   "cell_type": "markdown",
   "metadata": {},
   "source": [
    "### Feature scaling\n",
    "* Normalization = Keeps the original distribution of the data while setting the values in the range 0-1\n",
    "* Standarization = "
   ]
  },
  {
   "cell_type": "code",
   "execution_count": null,
   "metadata": {},
   "outputs": [],
   "source": [
    "import pandas as pd\n",
    "import matplotlib.pyplot as plt\n",
    "import seaborn as sns\n",
    "import tensorflow as tf\n",
    "from tensorflow.keras.utils import plot_model\n",
    "\n",
    "insurance = pd.read_csv(\"https://raw.githubusercontent.com/stedy/Machine-Learning-with-R-datasets/master/insurance.csv\")\n",
    "insurance"
   ]
  },
  {
   "cell_type": "code",
   "execution_count": null,
   "metadata": {},
   "outputs": [],
   "source": [
    "from sklearn.compose import make_column_transformer\n",
    "from sklearn.preprocessing import MinMaxScaler, OneHotEncoder\n",
    "from sklearn.model_selection import train_test_split"
   ]
  },
  {
   "cell_type": "code",
   "execution_count": null,
   "metadata": {},
   "outputs": [],
   "source": [
    "ct = make_column_transformer(\n",
    "    (MinMaxScaler(),['age','bmi','children']),\n",
    "    (OneHotEncoder(handle_unknown=\"ignore\"),['sex','smoker','region'])\n",
    "    )\n",
    "\n",
    "# Set the feature and variable data\n",
    "X = insurance.drop('charges',axis=1)\n",
    "y = insurance['charges']\n",
    "\n",
    "# Set the training and test dataset\n",
    "X_train,X_test, y_train, y_test = train_test_split(X,y,train_size=0.2)\n",
    "\n",
    "# Fit the column transformer\n",
    "ct.fit(X_train)\n",
    "\n",
    "# Transform the feature dataset\n",
    "X_train_normal = ct.transform(X_train)\n",
    "X_test_normal = ct.transform(X_test)"
   ]
  },
  {
   "cell_type": "code",
   "execution_count": null,
   "metadata": {},
   "outputs": [],
   "source": [
    "# Visualize the new dataset \n",
    "X_train_normal"
   ]
  },
  {
   "cell_type": "code",
   "execution_count": null,
   "metadata": {},
   "outputs": [],
   "source": [
    "# Build a neural network model to fit the nomalized data\n",
    "tf.random.set_seed(42)\n",
    "\n",
    "# 1.Create the model\n",
    "insurance_model_3 = tf.keras.Sequential([\n",
    "    tf.keras.layers.Dense(100),\n",
    "    tf.keras.layers.Dense(10),\n",
    "    tf.keras.layers.Dense(1)]\n",
    ")\n",
    "\n",
    "# 2. Compile the model\n",
    "insurance_model_3.compile(\n",
    "    loss = tf.keras.losses.mae,\n",
    "    optimizer = tf.keras.optimizers.Adam(learning_rate=0.01),\n",
    "    metrics = [\"mae\"]\n",
    ")\n",
    "\n",
    "# 3. Fit the model\n",
    "history = insurance_model_3.fit(X_train_normal,y_train,epochs = 100)\n",
    "\n",
    "# Visualize the model\n",
    "plot_model(insurance_model_3,show_shapes=True)"
   ]
  },
  {
   "cell_type": "code",
   "execution_count": null,
   "metadata": {},
   "outputs": [],
   "source": [
    "insurance_model_3.evaluate(X_test_normal,y_test)"
   ]
  },
  {
   "cell_type": "code",
   "execution_count": 21,
   "metadata": {},
   "outputs": [],
   "source": [
    "import pandas as pd\n",
    "import matplotlib.pyplot as plt\n",
    "import seaborn as sns\n",
    "import tensorflow as tf\n",
    "from tensorflow.keras.utils import plot_model\n",
    "\n",
    "(X_train,y_train), (X_test,y_test)= tf.keras.datasets.boston_housing.load_data(path='boston_housing.npz', test_split=0.2,seed=113)"
   ]
  },
  {
   "cell_type": "code",
   "execution_count": 22,
   "metadata": {},
   "outputs": [
    {
     "data": {
      "text/plain": [
       "((404, 13), (404,))"
      ]
     },
     "execution_count": 22,
     "metadata": {},
     "output_type": "execute_result"
    }
   ],
   "source": [
    "X_train.shape, y_train.shape"
   ]
  },
  {
   "cell_type": "code",
   "execution_count": 37,
   "metadata": {},
   "outputs": [
    {
     "data": {
      "text/html": [
       "<div>\n",
       "<style scoped>\n",
       "    .dataframe tbody tr th:only-of-type {\n",
       "        vertical-align: middle;\n",
       "    }\n",
       "\n",
       "    .dataframe tbody tr th {\n",
       "        vertical-align: top;\n",
       "    }\n",
       "\n",
       "    .dataframe thead th {\n",
       "        text-align: right;\n",
       "    }\n",
       "</style>\n",
       "<table border=\"1\" class=\"dataframe\">\n",
       "  <thead>\n",
       "    <tr style=\"text-align: right;\">\n",
       "      <th></th>\n",
       "      <th>0</th>\n",
       "      <th>1</th>\n",
       "      <th>2</th>\n",
       "      <th>3</th>\n",
       "      <th>4</th>\n",
       "      <th>5</th>\n",
       "      <th>6</th>\n",
       "      <th>7</th>\n",
       "      <th>8</th>\n",
       "      <th>9</th>\n",
       "      <th>10</th>\n",
       "      <th>11</th>\n",
       "      <th>12</th>\n",
       "    </tr>\n",
       "  </thead>\n",
       "  <tbody>\n",
       "    <tr>\n",
       "      <th>0</th>\n",
       "      <td>1.23247</td>\n",
       "      <td>0.0</td>\n",
       "      <td>8.14</td>\n",
       "      <td>0.0</td>\n",
       "      <td>0.5380</td>\n",
       "      <td>6.142</td>\n",
       "      <td>91.7</td>\n",
       "      <td>3.9769</td>\n",
       "      <td>4.0</td>\n",
       "      <td>307.0</td>\n",
       "      <td>21.0</td>\n",
       "      <td>396.90</td>\n",
       "      <td>18.72</td>\n",
       "    </tr>\n",
       "    <tr>\n",
       "      <th>1</th>\n",
       "      <td>0.02177</td>\n",
       "      <td>82.5</td>\n",
       "      <td>2.03</td>\n",
       "      <td>0.0</td>\n",
       "      <td>0.4150</td>\n",
       "      <td>7.610</td>\n",
       "      <td>15.7</td>\n",
       "      <td>6.2700</td>\n",
       "      <td>2.0</td>\n",
       "      <td>348.0</td>\n",
       "      <td>14.7</td>\n",
       "      <td>395.38</td>\n",
       "      <td>3.11</td>\n",
       "    </tr>\n",
       "    <tr>\n",
       "      <th>2</th>\n",
       "      <td>4.89822</td>\n",
       "      <td>0.0</td>\n",
       "      <td>18.10</td>\n",
       "      <td>0.0</td>\n",
       "      <td>0.6310</td>\n",
       "      <td>4.970</td>\n",
       "      <td>100.0</td>\n",
       "      <td>1.3325</td>\n",
       "      <td>24.0</td>\n",
       "      <td>666.0</td>\n",
       "      <td>20.2</td>\n",
       "      <td>375.52</td>\n",
       "      <td>3.26</td>\n",
       "    </tr>\n",
       "    <tr>\n",
       "      <th>3</th>\n",
       "      <td>0.03961</td>\n",
       "      <td>0.0</td>\n",
       "      <td>5.19</td>\n",
       "      <td>0.0</td>\n",
       "      <td>0.5150</td>\n",
       "      <td>6.037</td>\n",
       "      <td>34.5</td>\n",
       "      <td>5.9853</td>\n",
       "      <td>5.0</td>\n",
       "      <td>224.0</td>\n",
       "      <td>20.2</td>\n",
       "      <td>396.90</td>\n",
       "      <td>8.01</td>\n",
       "    </tr>\n",
       "    <tr>\n",
       "      <th>4</th>\n",
       "      <td>3.69311</td>\n",
       "      <td>0.0</td>\n",
       "      <td>18.10</td>\n",
       "      <td>0.0</td>\n",
       "      <td>0.7130</td>\n",
       "      <td>6.376</td>\n",
       "      <td>88.4</td>\n",
       "      <td>2.5671</td>\n",
       "      <td>24.0</td>\n",
       "      <td>666.0</td>\n",
       "      <td>20.2</td>\n",
       "      <td>391.43</td>\n",
       "      <td>14.65</td>\n",
       "    </tr>\n",
       "    <tr>\n",
       "      <th>...</th>\n",
       "      <td>...</td>\n",
       "      <td>...</td>\n",
       "      <td>...</td>\n",
       "      <td>...</td>\n",
       "      <td>...</td>\n",
       "      <td>...</td>\n",
       "      <td>...</td>\n",
       "      <td>...</td>\n",
       "      <td>...</td>\n",
       "      <td>...</td>\n",
       "      <td>...</td>\n",
       "      <td>...</td>\n",
       "      <td>...</td>\n",
       "    </tr>\n",
       "    <tr>\n",
       "      <th>399</th>\n",
       "      <td>0.21977</td>\n",
       "      <td>0.0</td>\n",
       "      <td>6.91</td>\n",
       "      <td>0.0</td>\n",
       "      <td>0.4480</td>\n",
       "      <td>5.602</td>\n",
       "      <td>62.0</td>\n",
       "      <td>6.0877</td>\n",
       "      <td>3.0</td>\n",
       "      <td>233.0</td>\n",
       "      <td>17.9</td>\n",
       "      <td>396.90</td>\n",
       "      <td>16.20</td>\n",
       "    </tr>\n",
       "    <tr>\n",
       "      <th>400</th>\n",
       "      <td>0.16211</td>\n",
       "      <td>20.0</td>\n",
       "      <td>6.96</td>\n",
       "      <td>0.0</td>\n",
       "      <td>0.4640</td>\n",
       "      <td>6.240</td>\n",
       "      <td>16.3</td>\n",
       "      <td>4.4290</td>\n",
       "      <td>3.0</td>\n",
       "      <td>223.0</td>\n",
       "      <td>18.6</td>\n",
       "      <td>396.90</td>\n",
       "      <td>6.59</td>\n",
       "    </tr>\n",
       "    <tr>\n",
       "      <th>401</th>\n",
       "      <td>0.03466</td>\n",
       "      <td>35.0</td>\n",
       "      <td>6.06</td>\n",
       "      <td>0.0</td>\n",
       "      <td>0.4379</td>\n",
       "      <td>6.031</td>\n",
       "      <td>23.3</td>\n",
       "      <td>6.6407</td>\n",
       "      <td>1.0</td>\n",
       "      <td>304.0</td>\n",
       "      <td>16.9</td>\n",
       "      <td>362.25</td>\n",
       "      <td>7.83</td>\n",
       "    </tr>\n",
       "    <tr>\n",
       "      <th>402</th>\n",
       "      <td>2.14918</td>\n",
       "      <td>0.0</td>\n",
       "      <td>19.58</td>\n",
       "      <td>0.0</td>\n",
       "      <td>0.8710</td>\n",
       "      <td>5.709</td>\n",
       "      <td>98.5</td>\n",
       "      <td>1.6232</td>\n",
       "      <td>5.0</td>\n",
       "      <td>403.0</td>\n",
       "      <td>14.7</td>\n",
       "      <td>261.95</td>\n",
       "      <td>15.79</td>\n",
       "    </tr>\n",
       "    <tr>\n",
       "      <th>403</th>\n",
       "      <td>0.01439</td>\n",
       "      <td>60.0</td>\n",
       "      <td>2.93</td>\n",
       "      <td>0.0</td>\n",
       "      <td>0.4010</td>\n",
       "      <td>6.604</td>\n",
       "      <td>18.8</td>\n",
       "      <td>6.2196</td>\n",
       "      <td>1.0</td>\n",
       "      <td>265.0</td>\n",
       "      <td>15.6</td>\n",
       "      <td>376.70</td>\n",
       "      <td>4.38</td>\n",
       "    </tr>\n",
       "  </tbody>\n",
       "</table>\n",
       "<p>404 rows × 13 columns</p>\n",
       "</div>"
      ],
      "text/plain": [
       "          0     1      2    3       4      5      6       7     8      9   \\\n",
       "0    1.23247   0.0   8.14  0.0  0.5380  6.142   91.7  3.9769   4.0  307.0   \n",
       "1    0.02177  82.5   2.03  0.0  0.4150  7.610   15.7  6.2700   2.0  348.0   \n",
       "2    4.89822   0.0  18.10  0.0  0.6310  4.970  100.0  1.3325  24.0  666.0   \n",
       "3    0.03961   0.0   5.19  0.0  0.5150  6.037   34.5  5.9853   5.0  224.0   \n",
       "4    3.69311   0.0  18.10  0.0  0.7130  6.376   88.4  2.5671  24.0  666.0   \n",
       "..       ...   ...    ...  ...     ...    ...    ...     ...   ...    ...   \n",
       "399  0.21977   0.0   6.91  0.0  0.4480  5.602   62.0  6.0877   3.0  233.0   \n",
       "400  0.16211  20.0   6.96  0.0  0.4640  6.240   16.3  4.4290   3.0  223.0   \n",
       "401  0.03466  35.0   6.06  0.0  0.4379  6.031   23.3  6.6407   1.0  304.0   \n",
       "402  2.14918   0.0  19.58  0.0  0.8710  5.709   98.5  1.6232   5.0  403.0   \n",
       "403  0.01439  60.0   2.93  0.0  0.4010  6.604   18.8  6.2196   1.0  265.0   \n",
       "\n",
       "       10      11     12  \n",
       "0    21.0  396.90  18.72  \n",
       "1    14.7  395.38   3.11  \n",
       "2    20.2  375.52   3.26  \n",
       "3    20.2  396.90   8.01  \n",
       "4    20.2  391.43  14.65  \n",
       "..    ...     ...    ...  \n",
       "399  17.9  396.90  16.20  \n",
       "400  18.6  396.90   6.59  \n",
       "401  16.9  362.25   7.83  \n",
       "402  14.7  261.95  15.79  \n",
       "403  15.6  376.70   4.38  \n",
       "\n",
       "[404 rows x 13 columns]"
      ]
     },
     "execution_count": 37,
     "metadata": {},
     "output_type": "execute_result"
    }
   ],
   "source": [
    "pd.DataFrame(X_train)"
   ]
  },
  {
   "cell_type": "code",
   "execution_count": 23,
   "metadata": {},
   "outputs": [
    {
     "name": "stdout",
     "output_type": "stream",
     "text": [
      "Epoch 1/100\n",
      "13/13 [==============================] - 0s 5ms/step - loss: 26.7213 - mae: 26.7213 - mse: 1240.2712\n",
      "Epoch 2/100\n",
      "13/13 [==============================] - 0s 5ms/step - loss: 14.3203 - mae: 14.3203 - mse: 324.0635\n",
      "Epoch 3/100\n",
      "13/13 [==============================] - 0s 4ms/step - loss: 10.0862 - mae: 10.0862 - mse: 157.3774\n",
      "Epoch 4/100\n",
      "13/13 [==============================] - 0s 3ms/step - loss: 9.3157 - mae: 9.3157 - mse: 138.9594\n",
      "Epoch 5/100\n",
      "13/13 [==============================] - 0s 4ms/step - loss: 8.5783 - mae: 8.5783 - mse: 123.8023\n",
      "Epoch 6/100\n",
      "13/13 [==============================] - 0s 3ms/step - loss: 8.5027 - mae: 8.5027 - mse: 121.2954\n",
      "Epoch 7/100\n",
      "13/13 [==============================] - 0s 3ms/step - loss: 8.0629 - mae: 8.0629 - mse: 106.1388\n",
      "Epoch 8/100\n",
      "13/13 [==============================] - 0s 3ms/step - loss: 7.3845 - mae: 7.3845 - mse: 95.9855\n",
      "Epoch 9/100\n",
      "13/13 [==============================] - 0s 2ms/step - loss: 7.5923 - mae: 7.5923 - mse: 101.8369\n",
      "Epoch 10/100\n",
      "13/13 [==============================] - 0s 2ms/step - loss: 7.7430 - mae: 7.7430 - mse: 99.2675\n",
      "Epoch 11/100\n",
      "13/13 [==============================] - 0s 3ms/step - loss: 6.9244 - mae: 6.9244 - mse: 88.7471\n",
      "Epoch 12/100\n",
      "13/13 [==============================] - 0s 3ms/step - loss: 6.7321 - mae: 6.7321 - mse: 84.2885\n",
      "Epoch 13/100\n",
      "13/13 [==============================] - 0s 2ms/step - loss: 6.9034 - mae: 6.9034 - mse: 83.4110\n",
      "Epoch 14/100\n",
      "13/13 [==============================] - 0s 2ms/step - loss: 6.4075 - mae: 6.4075 - mse: 77.1552\n",
      "Epoch 15/100\n",
      "13/13 [==============================] - 0s 3ms/step - loss: 6.2409 - mae: 6.2409 - mse: 74.3468\n",
      "Epoch 16/100\n",
      "13/13 [==============================] - 0s 2ms/step - loss: 6.2257 - mae: 6.2257 - mse: 72.7134\n",
      "Epoch 17/100\n",
      "13/13 [==============================] - 0s 2ms/step - loss: 6.0966 - mae: 6.0966 - mse: 71.3914\n",
      "Epoch 18/100\n",
      "13/13 [==============================] - 0s 2ms/step - loss: 6.1961 - mae: 6.1961 - mse: 73.7948\n",
      "Epoch 19/100\n",
      "13/13 [==============================] - 0s 2ms/step - loss: 6.0392 - mae: 6.0392 - mse: 71.5454\n",
      "Epoch 20/100\n",
      "13/13 [==============================] - 0s 2ms/step - loss: 5.8454 - mae: 5.8454 - mse: 67.0701\n",
      "Epoch 21/100\n",
      "13/13 [==============================] - 0s 3ms/step - loss: 5.9676 - mae: 5.9676 - mse: 70.1479\n",
      "Epoch 22/100\n",
      "13/13 [==============================] - 0s 2ms/step - loss: 5.9932 - mae: 5.9932 - mse: 67.3091\n",
      "Epoch 23/100\n",
      "13/13 [==============================] - 0s 2ms/step - loss: 5.7547 - mae: 5.7547 - mse: 66.1196\n",
      "Epoch 24/100\n",
      "13/13 [==============================] - 0s 2ms/step - loss: 6.2549 - mae: 6.2549 - mse: 73.4049\n",
      "Epoch 25/100\n",
      "13/13 [==============================] - 0s 2ms/step - loss: 6.3373 - mae: 6.3373 - mse: 74.5587\n",
      "Epoch 26/100\n",
      "13/13 [==============================] - 0s 2ms/step - loss: 6.0646 - mae: 6.0646 - mse: 70.5164\n",
      "Epoch 27/100\n",
      "13/13 [==============================] - 0s 2ms/step - loss: 5.8006 - mae: 5.8006 - mse: 65.5262\n",
      "Epoch 28/100\n",
      "13/13 [==============================] - 0s 2ms/step - loss: 5.8437 - mae: 5.8437 - mse: 67.3259\n",
      "Epoch 29/100\n",
      "13/13 [==============================] - 0s 2ms/step - loss: 5.7378 - mae: 5.7378 - mse: 64.9956\n",
      "Epoch 30/100\n",
      "13/13 [==============================] - 0s 2ms/step - loss: 5.7337 - mae: 5.7337 - mse: 63.5750\n",
      "Epoch 31/100\n",
      "13/13 [==============================] - 0s 2ms/step - loss: 5.6242 - mae: 5.6242 - mse: 62.3237\n",
      "Epoch 32/100\n",
      "13/13 [==============================] - 0s 2ms/step - loss: 6.1714 - mae: 6.1714 - mse: 70.3377\n",
      "Epoch 33/100\n",
      "13/13 [==============================] - 0s 3ms/step - loss: 5.6662 - mae: 5.6662 - mse: 63.6662\n",
      "Epoch 34/100\n",
      "13/13 [==============================] - 0s 2ms/step - loss: 5.8214 - mae: 5.8214 - mse: 63.6480\n",
      "Epoch 35/100\n",
      "13/13 [==============================] - 0s 2ms/step - loss: 5.7501 - mae: 5.7501 - mse: 67.3901\n",
      "Epoch 36/100\n",
      "13/13 [==============================] - 0s 2ms/step - loss: 5.8183 - mae: 5.8183 - mse: 63.3807\n",
      "Epoch 37/100\n",
      "13/13 [==============================] - 0s 2ms/step - loss: 6.3504 - mae: 6.3504 - mse: 73.9286\n",
      "Epoch 38/100\n",
      "13/13 [==============================] - 0s 2ms/step - loss: 5.8193 - mae: 5.8193 - mse: 68.4813\n",
      "Epoch 39/100\n",
      "13/13 [==============================] - 0s 2ms/step - loss: 6.0364 - mae: 6.0364 - mse: 70.8157\n",
      "Epoch 40/100\n",
      "13/13 [==============================] - 0s 2ms/step - loss: 5.7842 - mae: 5.7842 - mse: 63.2678\n",
      "Epoch 41/100\n",
      "13/13 [==============================] - 0s 2ms/step - loss: 5.5600 - mae: 5.5600 - mse: 63.2536\n",
      "Epoch 42/100\n",
      "13/13 [==============================] - 0s 2ms/step - loss: 5.3194 - mae: 5.3194 - mse: 56.9880\n",
      "Epoch 43/100\n",
      "13/13 [==============================] - 0s 2ms/step - loss: 5.9444 - mae: 5.9444 - mse: 66.7779\n",
      "Epoch 44/100\n",
      "13/13 [==============================] - 0s 2ms/step - loss: 6.4016 - mae: 6.4016 - mse: 76.4238\n",
      "Epoch 45/100\n",
      "13/13 [==============================] - 0s 3ms/step - loss: 6.3396 - mae: 6.3396 - mse: 70.3357\n",
      "Epoch 46/100\n",
      "13/13 [==============================] - 0s 3ms/step - loss: 6.2897 - mae: 6.2897 - mse: 73.3610\n",
      "Epoch 47/100\n",
      "13/13 [==============================] - 0s 2ms/step - loss: 5.6713 - mae: 5.6713 - mse: 60.9932\n",
      "Epoch 48/100\n",
      "13/13 [==============================] - 0s 3ms/step - loss: 5.4637 - mae: 5.4637 - mse: 59.6716\n",
      "Epoch 49/100\n",
      "13/13 [==============================] - 0s 2ms/step - loss: 6.1603 - mae: 6.1603 - mse: 71.1872\n",
      "Epoch 50/100\n",
      "13/13 [==============================] - 0s 2ms/step - loss: 7.0138 - mae: 7.0138 - mse: 84.5212\n",
      "Epoch 51/100\n",
      "13/13 [==============================] - 0s 2ms/step - loss: 6.7931 - mae: 6.7931 - mse: 76.8521\n",
      "Epoch 52/100\n",
      "13/13 [==============================] - 0s 2ms/step - loss: 5.3220 - mae: 5.3220 - mse: 58.4956\n",
      "Epoch 53/100\n",
      "13/13 [==============================] - 0s 2ms/step - loss: 6.5003 - mae: 6.5003 - mse: 77.3078\n",
      "Epoch 54/100\n",
      "13/13 [==============================] - 0s 2ms/step - loss: 5.4853 - mae: 5.4853 - mse: 57.1020\n",
      "Epoch 55/100\n",
      "13/13 [==============================] - 0s 2ms/step - loss: 5.2807 - mae: 5.2807 - mse: 56.3848\n",
      "Epoch 56/100\n",
      "13/13 [==============================] - 0s 2ms/step - loss: 5.5453 - mae: 5.5453 - mse: 59.8248\n",
      "Epoch 57/100\n",
      "13/13 [==============================] - 0s 2ms/step - loss: 6.4602 - mae: 6.4602 - mse: 75.7153\n",
      "Epoch 58/100\n",
      "13/13 [==============================] - 0s 2ms/step - loss: 6.4819 - mae: 6.4819 - mse: 75.5825\n",
      "Epoch 59/100\n",
      "13/13 [==============================] - 0s 2ms/step - loss: 5.7121 - mae: 5.7121 - mse: 59.5681\n",
      "Epoch 60/100\n",
      "13/13 [==============================] - 0s 2ms/step - loss: 5.7510 - mae: 5.7510 - mse: 63.1857\n",
      "Epoch 61/100\n",
      "13/13 [==============================] - 0s 2ms/step - loss: 5.4253 - mae: 5.4253 - mse: 58.1413\n",
      "Epoch 62/100\n",
      "13/13 [==============================] - 0s 2ms/step - loss: 5.3905 - mae: 5.3905 - mse: 56.8489\n",
      "Epoch 63/100\n",
      "13/13 [==============================] - 0s 2ms/step - loss: 5.2317 - mae: 5.2317 - mse: 54.4408\n",
      "Epoch 64/100\n",
      "13/13 [==============================] - 0s 2ms/step - loss: 5.6886 - mae: 5.6886 - mse: 61.8577\n",
      "Epoch 65/100\n",
      "13/13 [==============================] - 0s 2ms/step - loss: 5.6087 - mae: 5.6087 - mse: 58.4993\n",
      "Epoch 66/100\n",
      "13/13 [==============================] - 0s 2ms/step - loss: 5.3460 - mae: 5.3460 - mse: 56.6204\n",
      "Epoch 67/100\n",
      "13/13 [==============================] - 0s 2ms/step - loss: 5.2013 - mae: 5.2013 - mse: 55.3338\n",
      "Epoch 68/100\n",
      "13/13 [==============================] - 0s 2ms/step - loss: 5.5538 - mae: 5.5538 - mse: 59.4013\n",
      "Epoch 69/100\n",
      "13/13 [==============================] - 0s 2ms/step - loss: 5.2129 - mae: 5.2129 - mse: 54.4308\n",
      "Epoch 70/100\n",
      "13/13 [==============================] - 0s 2ms/step - loss: 5.2783 - mae: 5.2783 - mse: 54.0645\n",
      "Epoch 71/100\n",
      "13/13 [==============================] - 0s 2ms/step - loss: 5.4073 - mae: 5.4073 - mse: 57.3236\n",
      "Epoch 72/100\n",
      "13/13 [==============================] - 0s 2ms/step - loss: 5.5273 - mae: 5.5273 - mse: 60.6804\n",
      "Epoch 73/100\n",
      "13/13 [==============================] - 0s 2ms/step - loss: 5.2457 - mae: 5.2457 - mse: 54.4592\n",
      "Epoch 74/100\n",
      "13/13 [==============================] - 0s 2ms/step - loss: 5.3489 - mae: 5.3489 - mse: 54.5476\n",
      "Epoch 75/100\n",
      "13/13 [==============================] - 0s 2ms/step - loss: 5.1584 - mae: 5.1584 - mse: 53.5128\n",
      "Epoch 76/100\n",
      "13/13 [==============================] - 0s 2ms/step - loss: 5.5346 - mae: 5.5346 - mse: 59.7794\n",
      "Epoch 77/100\n",
      "13/13 [==============================] - 0s 2ms/step - loss: 5.2767 - mae: 5.2767 - mse: 52.7208\n",
      "Epoch 78/100\n",
      "13/13 [==============================] - 0s 2ms/step - loss: 6.5120 - mae: 6.5120 - mse: 70.9779\n",
      "Epoch 79/100\n",
      "13/13 [==============================] - 0s 2ms/step - loss: 6.0286 - mae: 6.0286 - mse: 67.1691\n",
      "Epoch 80/100\n",
      "13/13 [==============================] - 0s 2ms/step - loss: 5.0543 - mae: 5.0543 - mse: 52.3528\n",
      "Epoch 81/100\n",
      "13/13 [==============================] - 0s 2ms/step - loss: 5.2382 - mae: 5.2382 - mse: 53.4437\n",
      "Epoch 82/100\n",
      "13/13 [==============================] - 0s 2ms/step - loss: 5.1235 - mae: 5.1235 - mse: 51.4461\n",
      "Epoch 83/100\n",
      "13/13 [==============================] - 0s 2ms/step - loss: 5.8066 - mae: 5.8066 - mse: 62.2352\n",
      "Epoch 84/100\n",
      "13/13 [==============================] - 0s 2ms/step - loss: 5.2521 - mae: 5.2521 - mse: 55.0951\n",
      "Epoch 85/100\n",
      "13/13 [==============================] - 0s 2ms/step - loss: 5.2052 - mae: 5.2052 - mse: 53.5349\n",
      "Epoch 86/100\n",
      "13/13 [==============================] - 0s 2ms/step - loss: 5.3455 - mae: 5.3455 - mse: 54.6935\n",
      "Epoch 87/100\n",
      "13/13 [==============================] - 0s 2ms/step - loss: 5.2072 - mae: 5.2072 - mse: 52.8543\n",
      "Epoch 88/100\n",
      "13/13 [==============================] - 0s 2ms/step - loss: 5.3741 - mae: 5.3741 - mse: 57.2571\n",
      "Epoch 89/100\n",
      "13/13 [==============================] - 0s 2ms/step - loss: 5.3117 - mae: 5.3117 - mse: 53.1955\n",
      "Epoch 90/100\n",
      "13/13 [==============================] - 0s 2ms/step - loss: 5.2857 - mae: 5.2857 - mse: 54.0614\n",
      "Epoch 91/100\n",
      "13/13 [==============================] - 0s 2ms/step - loss: 5.0401 - mae: 5.0401 - mse: 53.7585\n",
      "Epoch 92/100\n",
      "13/13 [==============================] - 0s 2ms/step - loss: 5.8202 - mae: 5.8202 - mse: 66.6398\n",
      "Epoch 93/100\n",
      "13/13 [==============================] - 0s 2ms/step - loss: 5.5456 - mae: 5.5456 - mse: 56.6470\n",
      "Epoch 94/100\n",
      "13/13 [==============================] - 0s 2ms/step - loss: 5.9710 - mae: 5.9710 - mse: 63.4816\n",
      "Epoch 95/100\n",
      "13/13 [==============================] - 0s 2ms/step - loss: 5.1640 - mae: 5.1640 - mse: 53.7438\n",
      "Epoch 96/100\n",
      "13/13 [==============================] - 0s 2ms/step - loss: 5.0413 - mae: 5.0413 - mse: 51.6129\n",
      "Epoch 97/100\n",
      "13/13 [==============================] - 0s 2ms/step - loss: 5.2047 - mae: 5.2047 - mse: 51.7917\n",
      "Epoch 98/100\n",
      "13/13 [==============================] - 0s 2ms/step - loss: 5.5314 - mae: 5.5314 - mse: 55.3972\n",
      "Epoch 99/100\n",
      "13/13 [==============================] - 0s 2ms/step - loss: 5.4883 - mae: 5.4883 - mse: 58.6656\n",
      "Epoch 100/100\n",
      "13/13 [==============================] - 0s 2ms/step - loss: 5.1590 - mae: 5.1590 - mse: 51.8837\n"
     ]
    },
    {
     "data": {
      "image/png": "[encoded data removed]",
      "text/plain": [
       "<IPython.core.display.Image object>"
      ]
     },
     "execution_count": 23,
     "metadata": {},
     "output_type": "execute_result"
    }
   ],
   "source": [
    "# Sin normalizacion\n",
    "tf.random.set_seed(42)\n",
    "\n",
    "# 1. Create the model\n",
    "boston_model_1 = tf.keras.Sequential([\n",
    "    tf.keras.layers.Dense(10),\n",
    "    tf.keras.layers.Dense(100),\n",
    "    tf.keras.layers.Dense(1)\n",
    "])\n",
    "# 2. Compile the model\n",
    "boston_model_1.compile(\n",
    "    loss = tf.keras.losses.mae,\n",
    "    optimizer = tf.keras.optimizers.Adam(learning_rate=0.001),\n",
    "    metrics = ['mae','mse']\n",
    ")\n",
    "# 3. Fit the model\n",
    "history_1 = boston_model_1.fit(X_train,y_train,epochs=100)\n",
    "# 4. Visualize the model\n",
    "plot_model(boston_model_1,show_shapes=True)"
   ]
  },
  {
   "cell_type": "code",
   "execution_count": 24,
   "metadata": {},
   "outputs": [
    {
     "name": "stdout",
     "output_type": "stream",
     "text": [
      "4/4 [==============================] - 0s 1ms/step - loss: 5.9968 - mae: 5.9968 - mse: 59.2350\n",
      "[5.996804237365723, 5.996804237365723, 59.235015869140625]\n"
     ]
    },
    {
     "data": {
      "text/plain": [
       "Text(0.5, 0, 'Epoch')"
      ]
     },
     "execution_count": 24,
     "metadata": {},
     "output_type": "execute_result"
    },
    {
     "data": {
      "image/png": "[encoded data removed]",
      "text/plain": [
       "<Figure size 432x288 with 1 Axes>"
      ]
     },
     "metadata": {
      "needs_background": "light"
     },
     "output_type": "display_data"
    }
   ],
   "source": [
    "print(boston_model_1.evaluate(X_test,y_test))\n",
    "pd.DataFrame(history_1.history).plot()\n",
    "plt.ylabel(\"Loss\")\n",
    "plt.xlabel(\"Epoch\")"
   ]
  },
  {
   "cell_type": "code",
   "execution_count": 25,
   "metadata": {},
   "outputs": [],
   "source": [
    "y_preds = boston_model_1.predict(X_test)"
   ]
  },
  {
   "cell_type": "code",
   "execution_count": 33,
   "metadata": {},
   "outputs": [
    {
     "data": {
      "text/plain": [
       "<matplotlib.legend.Legend at 0x2704df82940>"
      ]
     },
     "execution_count": 33,
     "metadata": {},
     "output_type": "execute_result"
    },
    {
     "data": {
      "image/png": "[encoded data removed]",
      "text/plain": [
       "<Figure size 432x288 with 1 Axes>"
      ]
     },
     "metadata": {
      "needs_background": "light"
     },
     "output_type": "display_data"
    }
   ],
   "source": [
    "plt.plot(y_preds)\n",
    "plt.plot(y_test)\n",
    "plt.legend(['Predicted values','True values'])"
   ]
  },
  {
   "cell_type": "code",
   "execution_count": 38,
   "metadata": {},
   "outputs": [],
   "source": [
    "from sklearn.compose import make_column_transformer\n",
    "from sklearn.preprocessing import MinMaxScaler, OneHotEncoder\n",
    "from sklearn.model_selection import train_test_split"
   ]
  },
  {
   "cell_type": "code",
   "execution_count": 43,
   "metadata": {},
   "outputs": [],
   "source": [
    "# Design the transformer\n",
    "scaler = MinMaxScaler()\n",
    "\n",
    "# Fit the transformer\n",
    "scaler.fit(X_train)\n",
    "\n",
    "X_train_normal = scaler.transform(X_train)\n",
    "X_test_normal = scaler.transform(X_test)\n"
   ]
  },
  {
   "cell_type": "code",
   "execution_count": 46,
   "metadata": {},
   "outputs": [
    {
     "name": "stdout",
     "output_type": "stream",
     "text": [
      "Epoch 1/100\n",
      "13/13 [==============================] - 0s 3ms/step - loss: 21.5792 - mae: 21.5792\n",
      "Epoch 2/100\n",
      "13/13 [==============================] - 0s 3ms/step - loss: 20.5054 - mae: 20.5054\n",
      "Epoch 3/100\n",
      "13/13 [==============================] - 0s 4ms/step - loss: 18.9465 - mae: 18.9465\n",
      "Epoch 4/100\n",
      "13/13 [==============================] - 0s 3ms/step - loss: 16.5553 - mae: 16.5553\n",
      "Epoch 5/100\n",
      "13/13 [==============================] - 0s 3ms/step - loss: 13.1531 - mae: 13.1531\n",
      "Epoch 6/100\n",
      "13/13 [==============================] - 0s 3ms/step - loss: 10.0678 - mae: 10.0678\n",
      "Epoch 7/100\n",
      "13/13 [==============================] - 0s 3ms/step - loss: 8.6063 - mae: 8.6063\n",
      "Epoch 8/100\n",
      "13/13 [==============================] - 0s 3ms/step - loss: 8.1010 - mae: 8.1010\n",
      "Epoch 9/100\n",
      "13/13 [==============================] - 0s 3ms/step - loss: 7.6426 - mae: 7.6426\n",
      "Epoch 10/100\n",
      "13/13 [==============================] - 0s 3ms/step - loss: 7.2202 - mae: 7.2202\n",
      "Epoch 11/100\n",
      "13/13 [==============================] - 0s 2ms/step - loss: 6.8159 - mae: 6.8159\n",
      "Epoch 12/100\n",
      "13/13 [==============================] - 0s 2ms/step - loss: 6.4455 - mae: 6.4455\n",
      "Epoch 13/100\n",
      "13/13 [==============================] - 0s 2ms/step - loss: 6.1363 - mae: 6.1363\n",
      "Epoch 14/100\n",
      "13/13 [==============================] - 0s 3ms/step - loss: 5.8784 - mae: 5.8784\n",
      "Epoch 15/100\n",
      "13/13 [==============================] - 0s 2ms/step - loss: 5.6957 - mae: 5.6957\n",
      "Epoch 16/100\n",
      "13/13 [==============================] - 0s 2ms/step - loss: 5.5679 - mae: 5.5679\n",
      "Epoch 17/100\n",
      "13/13 [==============================] - 0s 2ms/step - loss: 5.4697 - mae: 5.4697\n",
      "Epoch 18/100\n",
      "13/13 [==============================] - 0s 3ms/step - loss: 5.3820 - mae: 5.3820\n",
      "Epoch 19/100\n",
      "13/13 [==============================] - 0s 4ms/step - loss: 5.3203 - mae: 5.3203\n",
      "Epoch 20/100\n",
      "13/13 [==============================] - 0s 2ms/step - loss: 5.2646 - mae: 5.2646\n",
      "Epoch 21/100\n",
      "13/13 [==============================] - 0s 2ms/step - loss: 5.2237 - mae: 5.2237\n",
      "Epoch 22/100\n",
      "13/13 [==============================] - 0s 3ms/step - loss: 5.1533 - mae: 5.1533\n",
      "Epoch 23/100\n",
      "13/13 [==============================] - 0s 2ms/step - loss: 5.1339 - mae: 5.1339\n",
      "Epoch 24/100\n",
      "13/13 [==============================] - 0s 3ms/step - loss: 5.0664 - mae: 5.0664\n",
      "Epoch 25/100\n",
      "13/13 [==============================] - 0s 2ms/step - loss: 5.0158 - mae: 5.0158\n",
      "Epoch 26/100\n",
      "13/13 [==============================] - 0s 2ms/step - loss: 4.9905 - mae: 4.9905\n",
      "Epoch 27/100\n",
      "13/13 [==============================] - 0s 2ms/step - loss: 4.9283 - mae: 4.9283\n",
      "Epoch 28/100\n",
      "13/13 [==============================] - 0s 2ms/step - loss: 4.9022 - mae: 4.9022\n",
      "Epoch 29/100\n",
      "13/13 [==============================] - 0s 2ms/step - loss: 4.8453 - mae: 4.8453\n",
      "Epoch 30/100\n",
      "13/13 [==============================] - 0s 2ms/step - loss: 4.8059 - mae: 4.8059\n",
      "Epoch 31/100\n",
      "13/13 [==============================] - 0s 2ms/step - loss: 4.7760 - mae: 4.7760\n",
      "Epoch 32/100\n",
      "13/13 [==============================] - 0s 2ms/step - loss: 4.7168 - mae: 4.7168\n",
      "Epoch 33/100\n",
      "13/13 [==============================] - 0s 2ms/step - loss: 4.6827 - mae: 4.6827\n",
      "Epoch 34/100\n",
      "13/13 [==============================] - 0s 2ms/step - loss: 4.6409 - mae: 4.6409\n",
      "Epoch 35/100\n",
      "13/13 [==============================] - 0s 2ms/step - loss: 4.5883 - mae: 4.5883\n",
      "Epoch 36/100\n",
      "13/13 [==============================] - 0s 2ms/step - loss: 4.5781 - mae: 4.5781\n",
      "Epoch 37/100\n",
      "13/13 [==============================] - 0s 2ms/step - loss: 4.5224 - mae: 4.5224\n",
      "Epoch 38/100\n",
      "13/13 [==============================] - 0s 2ms/step - loss: 4.4791 - mae: 4.4791\n",
      "Epoch 39/100\n",
      "13/13 [==============================] - 0s 2ms/step - loss: 4.4431 - mae: 4.4431\n",
      "Epoch 40/100\n",
      "13/13 [==============================] - 0s 2ms/step - loss: 4.4069 - mae: 4.4069\n",
      "Epoch 41/100\n",
      "13/13 [==============================] - 0s 2ms/step - loss: 4.3837 - mae: 4.3837\n",
      "Epoch 42/100\n",
      "13/13 [==============================] - 0s 2ms/step - loss: 4.3439 - mae: 4.3439\n",
      "Epoch 43/100\n",
      "13/13 [==============================] - 0s 2ms/step - loss: 4.3243 - mae: 4.3243\n",
      "Epoch 44/100\n",
      "13/13 [==============================] - 0s 2ms/step - loss: 4.2681 - mae: 4.2681\n",
      "Epoch 45/100\n",
      "13/13 [==============================] - 0s 2ms/step - loss: 4.2283 - mae: 4.2283\n",
      "Epoch 46/100\n",
      "13/13 [==============================] - 0s 2ms/step - loss: 4.1976 - mae: 4.1976\n",
      "Epoch 47/100\n",
      "13/13 [==============================] - 0s 2ms/step - loss: 4.1776 - mae: 4.1776\n",
      "Epoch 48/100\n",
      "13/13 [==============================] - 0s 2ms/step - loss: 4.1389 - mae: 4.1389\n",
      "Epoch 49/100\n",
      "13/13 [==============================] - 0s 2ms/step - loss: 4.1050 - mae: 4.1050\n",
      "Epoch 50/100\n",
      "13/13 [==============================] - 0s 2ms/step - loss: 4.0721 - mae: 4.0721\n",
      "Epoch 51/100\n",
      "13/13 [==============================] - 0s 2ms/step - loss: 4.0434 - mae: 4.0434\n",
      "Epoch 52/100\n",
      "13/13 [==============================] - 0s 2ms/step - loss: 4.0126 - mae: 4.0126\n",
      "Epoch 53/100\n",
      "13/13 [==============================] - 0s 2ms/step - loss: 3.9850 - mae: 3.9850\n",
      "Epoch 54/100\n",
      "13/13 [==============================] - 0s 2ms/step - loss: 3.9544 - mae: 3.9544\n",
      "Epoch 55/100\n",
      "13/13 [==============================] - 0s 2ms/step - loss: 3.9211 - mae: 3.9211\n",
      "Epoch 56/100\n",
      "13/13 [==============================] - 0s 2ms/step - loss: 3.9026 - mae: 3.9026\n",
      "Epoch 57/100\n",
      "13/13 [==============================] - 0s 2ms/step - loss: 3.8695 - mae: 3.8695\n",
      "Epoch 58/100\n",
      "13/13 [==============================] - 0s 2ms/step - loss: 3.8454 - mae: 3.8454\n",
      "Epoch 59/100\n",
      "13/13 [==============================] - 0s 2ms/step - loss: 3.7896 - mae: 3.7896\n",
      "Epoch 60/100\n",
      "13/13 [==============================] - 0s 2ms/step - loss: 3.7786 - mae: 3.7786\n",
      "Epoch 61/100\n",
      "13/13 [==============================] - 0s 2ms/step - loss: 3.7675 - mae: 3.7675\n",
      "Epoch 62/100\n",
      "13/13 [==============================] - 0s 2ms/step - loss: 3.7207 - mae: 3.7207\n",
      "Epoch 63/100\n",
      "13/13 [==============================] - 0s 2ms/step - loss: 3.6872 - mae: 3.6872\n",
      "Epoch 64/100\n",
      "13/13 [==============================] - 0s 2ms/step - loss: 3.6732 - mae: 3.6732\n",
      "Epoch 65/100\n",
      "13/13 [==============================] - 0s 2ms/step - loss: 3.6320 - mae: 3.6320\n",
      "Epoch 66/100\n",
      "13/13 [==============================] - 0s 2ms/step - loss: 3.6053 - mae: 3.6053\n",
      "Epoch 67/100\n",
      "13/13 [==============================] - 0s 2ms/step - loss: 3.5822 - mae: 3.5822\n",
      "Epoch 68/100\n",
      "13/13 [==============================] - 0s 2ms/step - loss: 3.5674 - mae: 3.5674\n",
      "Epoch 69/100\n",
      "13/13 [==============================] - 0s 2ms/step - loss: 3.5318 - mae: 3.5318\n",
      "Epoch 70/100\n",
      "13/13 [==============================] - 0s 2ms/step - loss: 3.5477 - mae: 3.5477\n",
      "Epoch 71/100\n",
      "13/13 [==============================] - 0s 2ms/step - loss: 3.5017 - mae: 3.5017\n",
      "Epoch 72/100\n",
      "13/13 [==============================] - 0s 2ms/step - loss: 3.4901 - mae: 3.4901\n",
      "Epoch 73/100\n",
      "13/13 [==============================] - 0s 2ms/step - loss: 3.4503 - mae: 3.4503\n",
      "Epoch 74/100\n",
      "13/13 [==============================] - 0s 2ms/step - loss: 3.4320 - mae: 3.4320\n",
      "Epoch 75/100\n",
      "13/13 [==============================] - 0s 2ms/step - loss: 3.4356 - mae: 3.4356\n",
      "Epoch 76/100\n",
      "13/13 [==============================] - 0s 2ms/step - loss: 3.4334 - mae: 3.4334\n",
      "Epoch 77/100\n",
      "13/13 [==============================] - 0s 2ms/step - loss: 3.4024 - mae: 3.4024\n",
      "Epoch 78/100\n",
      "13/13 [==============================] - 0s 2ms/step - loss: 3.4183 - mae: 3.4183\n",
      "Epoch 79/100\n",
      "13/13 [==============================] - 0s 2ms/step - loss: 3.4008 - mae: 3.4008\n",
      "Epoch 80/100\n",
      "13/13 [==============================] - 0s 2ms/step - loss: 3.3453 - mae: 3.3453\n",
      "Epoch 81/100\n",
      "13/13 [==============================] - 0s 2ms/step - loss: 3.3248 - mae: 3.3248\n",
      "Epoch 82/100\n",
      "13/13 [==============================] - 0s 2ms/step - loss: 3.3472 - mae: 3.3472\n",
      "Epoch 83/100\n",
      "13/13 [==============================] - 0s 2ms/step - loss: 3.3318 - mae: 3.3318\n",
      "Epoch 84/100\n",
      "13/13 [==============================] - 0s 2ms/step - loss: 3.3011 - mae: 3.3011\n",
      "Epoch 85/100\n",
      "13/13 [==============================] - 0s 2ms/step - loss: 3.2912 - mae: 3.2912\n",
      "Epoch 86/100\n",
      "13/13 [==============================] - 0s 2ms/step - loss: 3.2842 - mae: 3.2842\n",
      "Epoch 87/100\n",
      "13/13 [==============================] - 0s 2ms/step - loss: 3.2722 - mae: 3.2722\n",
      "Epoch 88/100\n",
      "13/13 [==============================] - 0s 2ms/step - loss: 3.2816 - mae: 3.2816\n",
      "Epoch 89/100\n",
      "13/13 [==============================] - 0s 2ms/step - loss: 3.2601 - mae: 3.2601\n",
      "Epoch 90/100\n",
      "13/13 [==============================] - 0s 2ms/step - loss: 3.2458 - mae: 3.2458\n",
      "Epoch 91/100\n",
      "13/13 [==============================] - 0s 2ms/step - loss: 3.2369 - mae: 3.2369\n",
      "Epoch 92/100\n",
      "13/13 [==============================] - 0s 2ms/step - loss: 3.2379 - mae: 3.2379\n",
      "Epoch 93/100\n",
      "13/13 [==============================] - 0s 2ms/step - loss: 3.2366 - mae: 3.2366\n",
      "Epoch 94/100\n",
      "13/13 [==============================] - 0s 2ms/step - loss: 3.2256 - mae: 3.2256\n",
      "Epoch 95/100\n",
      "13/13 [==============================] - 0s 2ms/step - loss: 3.2247 - mae: 3.2247\n",
      "Epoch 96/100\n",
      "13/13 [==============================] - 0s 2ms/step - loss: 3.2181 - mae: 3.2181\n",
      "Epoch 97/100\n",
      "13/13 [==============================] - 0s 2ms/step - loss: 3.2183 - mae: 3.2183\n",
      "Epoch 98/100\n",
      "13/13 [==============================] - 0s 2ms/step - loss: 3.2348 - mae: 3.2348\n",
      "Epoch 99/100\n",
      "13/13 [==============================] - 0s 2ms/step - loss: 3.1966 - mae: 3.1966\n",
      "Epoch 100/100\n",
      "13/13 [==============================] - 0s 2ms/step - loss: 3.1898 - mae: 3.1898\n"
     ]
    },
    {
     "data": {
      "image/png": "[encoded data removed]",
      "text/plain": [
       "<IPython.core.display.Image object>"
      ]
     },
     "execution_count": 46,
     "metadata": {},
     "output_type": "execute_result"
    }
   ],
   "source": [
    "tf.random.set_seed(42)\n",
    "\n",
    "# 1. Create the model\n",
    "boston_model_1_normal = tf.keras.Sequential([\n",
    "    tf.keras.layers.Dense(10),\n",
    "    tf.keras.layers.Dense(100),\n",
    "    tf.keras.layers.Dense(1)\n",
    "])\n",
    "\n",
    "# 2. Compile the model \n",
    "boston_model_1_normal.compile(\n",
    "    loss = tf.keras.losses.mae,\n",
    "    optimizer = tf.keras.optimizers.Adam(),\n",
    "    metrics = ['mae']\n",
    ")\n",
    "\n",
    "# 3. Fit the model\n",
    "history_2 = boston_model_1_normal.fit(X_train_normal,y_train,epochs=100)\n",
    "\n",
    "# 4. Visualize the model\n",
    "plot_model(boston_model_1_normal,show_shapes=True)"
   ]
  },
  {
   "cell_type": "code",
   "execution_count": 49,
   "metadata": {},
   "outputs": [
    {
     "name": "stdout",
     "output_type": "stream",
     "text": [
      "4/4 [==============================] - 0s 2ms/step - loss: 3.1840 - mae: 3.1840\n",
      "[3.1840460300445557, 3.1840460300445557]\n"
     ]
    },
    {
     "data": {
      "text/plain": [
       "Text(0.5, 0, 'Epoch')"
      ]
     },
     "execution_count": 49,
     "metadata": {},
     "output_type": "execute_result"
    },
    {
     "data": {
      "image/png": "[encoded data removed]",
      "text/plain": [
       "<Figure size 432x288 with 1 Axes>"
      ]
     },
     "metadata": {
      "needs_background": "light"
     },
     "output_type": "display_data"
    }
   ],
   "source": [
    "print(boston_model_1_normal.evaluate(X_test_normal,y_test))\n",
    "pd.DataFrame(history_2.history).plot()\n",
    "plt.ylabel(\"Loss\")\n",
    "plt.xlabel(\"Epoch\")"
   ]
  },
  {
   "cell_type": "code",
   "execution_count": 50,
   "metadata": {},
   "outputs": [],
   "source": [
    "y_preds_normal = boston_model_1_normal.predict(X_test_normal)"
   ]
  },
  {
   "cell_type": "code",
   "execution_count": 51,
   "metadata": {},
   "outputs": [
    {
     "data": {
      "text/plain": [
       "<matplotlib.legend.Legend at 0x27069794e80>"
      ]
     },
     "execution_count": 51,
     "metadata": {},
     "output_type": "execute_result"
    },
    {
     "data": {
      "image/png": "[encoded data removed]",
      "text/plain": [
       "<Figure size 432x288 with 1 Axes>"
      ]
     },
     "metadata": {
      "needs_background": "light"
     },
     "output_type": "display_data"
    }
   ],
   "source": [
    "plt.plot(y_preds_normal)\n",
    "plt.plot(y_test)\n",
    "plt.legend(['Predicted values','True values'])"
   ]
  }
 ],
 "metadata": {
  "kernelspec": {
   "display_name": "Python 3.9.7 ('base')",
   "language": "python",
   "name": "python3"
  },
  "language_info": {
   "codemirror_mode": {
    "name": "ipython",
    "version": 3
   },
   "file_extension": ".py",
   "mimetype": "text/x-python",
   "name": "python",
   "nbconvert_exporter": "python",
   "pygments_lexer": "ipython3",
   "version": "3.9.7"
  },
  "orig_nbformat": 4,
  "vscode": {
   "interpreter": {
    "hash": "ad2bdc8ecc057115af97d19610ffacc2b4e99fae6737bb82f5d7fb13d2f2c186"
   }
  }
 },
 "nbformat": 4,
 "nbformat_minor": 2
}
