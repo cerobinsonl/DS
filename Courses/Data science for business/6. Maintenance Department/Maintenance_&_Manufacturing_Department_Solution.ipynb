{
  "cells": [
    {
      "cell_type": "markdown",
      "metadata": {
        "id": "M27qF7CTrBqc"
      },
      "source": [
        "# TASK #1: UNDERSTAND THE PROBLEM STATEMENT AND BUSINESS CASE"
      ]
    },
    {
      "cell_type": "markdown",
      "metadata": {
        "id": "Z2ZMlH-gtOxf"
      },
      "source": [
        "\n",
        "<table>\n",
        "  <tr><td>\n",
        "    <img src=\"https://drive.google.com/uc?id=1rcxnQuLqFyn8l9hQmdyp-yxSaXhxJPed\"\n",
        "         alt=\"Fashion MNIST sprite\"  width=\"1000\">\n",
        "  </td></tr>\n",
        "  <tr><td align=\"center\">\n",
        "    <b>Figure 1. Predict Defects Using Deep Learning \n",
        "  </td></tr>\n",
        "</table>\n"
      ]
    },
    {
      "cell_type": "markdown",
      "metadata": {
        "id": "6bLpY2prr3qt"
      },
      "source": [
        "![alt text](https://drive.google.com/uc?id=167bsDXj2H_FqryEhoe6MrLAbt-d6Os-y)"
      ]
    },
    {
      "cell_type": "markdown",
      "metadata": {
        "id": "xGQZ816psWZv"
      },
      "source": [
        "![alt text](https://drive.google.com/uc?id=1dyo4nu8qObw_5-vrgasvWtX6WIdqkS86)"
      ]
    },
    {
      "cell_type": "markdown",
      "metadata": {
        "id": "RxRAp6a7Lso9"
      },
      "source": [
        "![alt text](https://drive.google.com/uc?id=1nzRA5KU0eWo0YPZtSxUWOoMlvooKGCkt)"
      ]
    },
    {
      "cell_type": "markdown",
      "metadata": {
        "id": "wCszOgccu7vv"
      },
      "source": [
        "![alt text](https://drive.google.com/uc?id=1hL6DnHp9Jn0oJSM2guGiEkxKGkuRcxjL)"
      ]
    },
    {
      "cell_type": "markdown",
      "metadata": {
        "id": "U7foSaTWu7s4"
      },
      "source": [
        "![alt text](https://drive.google.com/uc?id=1iqFkF-zkWXj1hIhcc9Y-bs-7-HocSuYz)"
      ]
    },
    {
      "cell_type": "markdown",
      "metadata": {
        "id": "zKmFmyaGunc7"
      },
      "source": [
        "# TASK #2: IMPORT LIBRARIES AND DATASETS"
      ]
    },
    {
      "cell_type": "code",
      "execution_count": 1,
      "metadata": {
        "colab": {
          "base_uri": "https://localhost:8080/",
          "height": 54
        },
        "id": "S0Cx3743urFY",
        "outputId": "57fd86fb-ff65-44a1-cb38-95654238ba80"
      },
      "outputs": [],
      "source": [
        "import pandas as pd\n",
        "import numpy as np\n",
        "import seaborn as sns\n",
        "import matplotlib.pyplot as plt\n",
        "import zipfile\n",
        "import cv2\n",
        "from skimage import io\n",
        "import tensorflow as tf\n",
        "from tensorflow.python.keras import Sequential\n",
        "from tensorflow.keras import layers, optimizers\n",
        "from tensorflow.keras.applications import DenseNet121\n",
        "from tensorflow.keras.applications.resnet50 import ResNet50\n",
        "from tensorflow.keras.layers import *\n",
        "from tensorflow.keras.models import Model, load_model\n",
        "from tensorflow.keras.initializers import glorot_uniform\n",
        "from tensorflow.keras.utils import plot_model\n",
        "from tensorflow.keras.callbacks import ReduceLROnPlateau, EarlyStopping, ModelCheckpoint, LearningRateScheduler\n",
        "from IPython.display import display\n",
        "from tensorflow.keras import backend as K\n",
        "from sklearn.preprocessing import StandardScaler, normalize\n",
        "import os\n",
        "\n"
      ]
    },
    {
      "cell_type": "markdown",
      "metadata": {
        "id": "3A2fH0Pov5lQ"
      },
      "source": [
        "![alt text](https://drive.google.com/uc?id=1kNILYpkePWnvy4Ntfsgorm55AzexCyay)"
      ]
    },
    {
      "cell_type": "markdown",
      "metadata": {
        "id": "x3kcVUXiwzUk"
      },
      "source": [
        "![alt text](https://drive.google.com/uc?id=1hMEbHCAHE3rsfHA6fR-ELY6c9dkJuAJI)"
      ]
    },
    {
      "cell_type": "code",
      "execution_count": 2,
      "metadata": {
        "id": "tjIiJdM4u1IE"
      },
      "outputs": [],
      "source": [
        "# data containing defect images with segmentation mask \n",
        "defect_class_mask_df = pd.read_csv('train.csv')\n"
      ]
    },
    {
      "cell_type": "code",
      "execution_count": 3,
      "metadata": {
        "id": "DbC_D1Gnw5_y"
      },
      "outputs": [],
      "source": [
        "# data containing defective and non defective images\n",
        "all_images_df = pd.read_csv('defect_and_no_defect.csv')\n"
      ]
    },
    {
      "cell_type": "code",
      "execution_count": 4,
      "metadata": {
        "colab": {
          "base_uri": "https://localhost:8080/",
          "height": 407
        },
        "id": "q4_wPDKCu5Uc",
        "outputId": "ed2a6d82-d80a-4495-a7e6-9e5af614be50"
      },
      "outputs": [
        {
          "data": {
            "text/html": [
              "<div>\n",
              "<style scoped>\n",
              "    .dataframe tbody tr th:only-of-type {\n",
              "        vertical-align: middle;\n",
              "    }\n",
              "\n",
              "    .dataframe tbody tr th {\n",
              "        vertical-align: top;\n",
              "    }\n",
              "\n",
              "    .dataframe thead th {\n",
              "        text-align: right;\n",
              "    }\n",
              "</style>\n",
              "<table border=\"1\" class=\"dataframe\">\n",
              "  <thead>\n",
              "    <tr style=\"text-align: right;\">\n",
              "      <th></th>\n",
              "      <th>ImageId</th>\n",
              "      <th>ClassId</th>\n",
              "      <th>EncodedPixels</th>\n",
              "    </tr>\n",
              "  </thead>\n",
              "  <tbody>\n",
              "    <tr>\n",
              "      <th>0</th>\n",
              "      <td>d2291de5c.jpg</td>\n",
              "      <td>1</td>\n",
              "      <td>147963 3 148213 9 148461 18 148711 24 148965 2...</td>\n",
              "    </tr>\n",
              "    <tr>\n",
              "      <th>1</th>\n",
              "      <td>78416c3d0.jpg</td>\n",
              "      <td>3</td>\n",
              "      <td>54365 3 54621 7 54877 10 55133 12 55388 14 556...</td>\n",
              "    </tr>\n",
              "    <tr>\n",
              "      <th>2</th>\n",
              "      <td>2283f2183.jpg</td>\n",
              "      <td>3</td>\n",
              "      <td>201217 43 201473 128 201729 213 201985 5086 20...</td>\n",
              "    </tr>\n",
              "    <tr>\n",
              "      <th>3</th>\n",
              "      <td>f0dc068a8.jpg</td>\n",
              "      <td>3</td>\n",
              "      <td>159207 26 159412 77 159617 128 159822 179 1600...</td>\n",
              "    </tr>\n",
              "    <tr>\n",
              "      <th>4</th>\n",
              "      <td>00d639396.jpg</td>\n",
              "      <td>3</td>\n",
              "      <td>229356 17 229595 34 229850 36 230105 37 230360...</td>\n",
              "    </tr>\n",
              "    <tr>\n",
              "      <th>...</th>\n",
              "      <td>...</td>\n",
              "      <td>...</td>\n",
              "      <td>...</td>\n",
              "    </tr>\n",
              "    <tr>\n",
              "      <th>5743</th>\n",
              "      <td>c12842f5e.jpg</td>\n",
              "      <td>3</td>\n",
              "      <td>88 23 342 29 596 34 850 39 1105 44 1361 46 161...</td>\n",
              "    </tr>\n",
              "    <tr>\n",
              "      <th>5744</th>\n",
              "      <td>2222a03b3.jpg</td>\n",
              "      <td>3</td>\n",
              "      <td>63332 4 63587 11 63841 20 64096 27 64351 35 64...</td>\n",
              "    </tr>\n",
              "    <tr>\n",
              "      <th>5745</th>\n",
              "      <td>b43ea2c01.jpg</td>\n",
              "      <td>1</td>\n",
              "      <td>185024 7 185279 11 185535 12 185790 13 186045 ...</td>\n",
              "    </tr>\n",
              "    <tr>\n",
              "      <th>5746</th>\n",
              "      <td>1bc37a6f4.jpg</td>\n",
              "      <td>3</td>\n",
              "      <td>303867 1 304122 3 304376 6 304613 3 304630 9 3...</td>\n",
              "    </tr>\n",
              "    <tr>\n",
              "      <th>5747</th>\n",
              "      <td>f4413e172.jpg</td>\n",
              "      <td>3</td>\n",
              "      <td>254911 3 255165 8 255419 12 255672 18 255926 2...</td>\n",
              "    </tr>\n",
              "  </tbody>\n",
              "</table>\n",
              "<p>5748 rows × 3 columns</p>\n",
              "</div>"
            ],
            "text/plain": [
              "            ImageId  ClassId  \\\n",
              "0     d2291de5c.jpg        1   \n",
              "1     78416c3d0.jpg        3   \n",
              "2     2283f2183.jpg        3   \n",
              "3     f0dc068a8.jpg        3   \n",
              "4     00d639396.jpg        3   \n",
              "...             ...      ...   \n",
              "5743  c12842f5e.jpg        3   \n",
              "5744  2222a03b3.jpg        3   \n",
              "5745  b43ea2c01.jpg        1   \n",
              "5746  1bc37a6f4.jpg        3   \n",
              "5747  f4413e172.jpg        3   \n",
              "\n",
              "                                          EncodedPixels  \n",
              "0     147963 3 148213 9 148461 18 148711 24 148965 2...  \n",
              "1     54365 3 54621 7 54877 10 55133 12 55388 14 556...  \n",
              "2     201217 43 201473 128 201729 213 201985 5086 20...  \n",
              "3     159207 26 159412 77 159617 128 159822 179 1600...  \n",
              "4     229356 17 229595 34 229850 36 230105 37 230360...  \n",
              "...                                                 ...  \n",
              "5743  88 23 342 29 596 34 850 39 1105 44 1361 46 161...  \n",
              "5744  63332 4 63587 11 63841 20 64096 27 64351 35 64...  \n",
              "5745  185024 7 185279 11 185535 12 185790 13 186045 ...  \n",
              "5746  303867 1 304122 3 304376 6 304613 3 304630 9 3...  \n",
              "5747  254911 3 255165 8 255419 12 255672 18 255926 2...  \n",
              "\n",
              "[5748 rows x 3 columns]"
            ]
          },
          "execution_count": 4,
          "metadata": {},
          "output_type": "execute_result"
        }
      ],
      "source": [
        "defect_class_mask_df"
      ]
    },
    {
      "cell_type": "code",
      "execution_count": 5,
      "metadata": {},
      "outputs": [
        {
          "data": {
            "text/html": [
              "<div>\n",
              "<style scoped>\n",
              "    .dataframe tbody tr th:only-of-type {\n",
              "        vertical-align: middle;\n",
              "    }\n",
              "\n",
              "    .dataframe tbody tr th {\n",
              "        vertical-align: top;\n",
              "    }\n",
              "\n",
              "    .dataframe thead th {\n",
              "        text-align: right;\n",
              "    }\n",
              "</style>\n",
              "<table border=\"1\" class=\"dataframe\">\n",
              "  <thead>\n",
              "    <tr style=\"text-align: right;\">\n",
              "      <th></th>\n",
              "      <th>ImageId</th>\n",
              "      <th>ClassId</th>\n",
              "      <th>EncodedPixels</th>\n",
              "    </tr>\n",
              "  </thead>\n",
              "  <tbody>\n",
              "    <tr>\n",
              "      <th>0</th>\n",
              "      <td>d2291de5c.jpg</td>\n",
              "      <td>1</td>\n",
              "      <td>147963 3 148213 9 148461 18 148711 24 148965 2...</td>\n",
              "    </tr>\n",
              "    <tr>\n",
              "      <th>1</th>\n",
              "      <td>78416c3d0.jpg</td>\n",
              "      <td>3</td>\n",
              "      <td>54365 3 54621 7 54877 10 55133 12 55388 14 556...</td>\n",
              "    </tr>\n",
              "    <tr>\n",
              "      <th>2</th>\n",
              "      <td>2283f2183.jpg</td>\n",
              "      <td>3</td>\n",
              "      <td>201217 43 201473 128 201729 213 201985 5086 20...</td>\n",
              "    </tr>\n",
              "    <tr>\n",
              "      <th>3</th>\n",
              "      <td>f0dc068a8.jpg</td>\n",
              "      <td>3</td>\n",
              "      <td>159207 26 159412 77 159617 128 159822 179 1600...</td>\n",
              "    </tr>\n",
              "    <tr>\n",
              "      <th>4</th>\n",
              "      <td>00d639396.jpg</td>\n",
              "      <td>3</td>\n",
              "      <td>229356 17 229595 34 229850 36 230105 37 230360...</td>\n",
              "    </tr>\n",
              "    <tr>\n",
              "      <th>...</th>\n",
              "      <td>...</td>\n",
              "      <td>...</td>\n",
              "      <td>...</td>\n",
              "    </tr>\n",
              "    <tr>\n",
              "      <th>5743</th>\n",
              "      <td>c12842f5e.jpg</td>\n",
              "      <td>3</td>\n",
              "      <td>88 23 342 29 596 34 850 39 1105 44 1361 46 161...</td>\n",
              "    </tr>\n",
              "    <tr>\n",
              "      <th>5744</th>\n",
              "      <td>2222a03b3.jpg</td>\n",
              "      <td>3</td>\n",
              "      <td>63332 4 63587 11 63841 20 64096 27 64351 35 64...</td>\n",
              "    </tr>\n",
              "    <tr>\n",
              "      <th>5745</th>\n",
              "      <td>b43ea2c01.jpg</td>\n",
              "      <td>1</td>\n",
              "      <td>185024 7 185279 11 185535 12 185790 13 186045 ...</td>\n",
              "    </tr>\n",
              "    <tr>\n",
              "      <th>5746</th>\n",
              "      <td>1bc37a6f4.jpg</td>\n",
              "      <td>3</td>\n",
              "      <td>303867 1 304122 3 304376 6 304613 3 304630 9 3...</td>\n",
              "    </tr>\n",
              "    <tr>\n",
              "      <th>5747</th>\n",
              "      <td>f4413e172.jpg</td>\n",
              "      <td>3</td>\n",
              "      <td>254911 3 255165 8 255419 12 255672 18 255926 2...</td>\n",
              "    </tr>\n",
              "  </tbody>\n",
              "</table>\n",
              "<p>5748 rows × 3 columns</p>\n",
              "</div>"
            ],
            "text/plain": [
              "            ImageId  ClassId  \\\n",
              "0     d2291de5c.jpg        1   \n",
              "1     78416c3d0.jpg        3   \n",
              "2     2283f2183.jpg        3   \n",
              "3     f0dc068a8.jpg        3   \n",
              "4     00d639396.jpg        3   \n",
              "...             ...      ...   \n",
              "5743  c12842f5e.jpg        3   \n",
              "5744  2222a03b3.jpg        3   \n",
              "5745  b43ea2c01.jpg        1   \n",
              "5746  1bc37a6f4.jpg        3   \n",
              "5747  f4413e172.jpg        3   \n",
              "\n",
              "                                          EncodedPixels  \n",
              "0     147963 3 148213 9 148461 18 148711 24 148965 2...  \n",
              "1     54365 3 54621 7 54877 10 55133 12 55388 14 556...  \n",
              "2     201217 43 201473 128 201729 213 201985 5086 20...  \n",
              "3     159207 26 159412 77 159617 128 159822 179 1600...  \n",
              "4     229356 17 229595 34 229850 36 230105 37 230360...  \n",
              "...                                                 ...  \n",
              "5743  88 23 342 29 596 34 850 39 1105 44 1361 46 161...  \n",
              "5744  63332 4 63587 11 63841 20 64096 27 64351 35 64...  \n",
              "5745  185024 7 185279 11 185535 12 185790 13 186045 ...  \n",
              "5746  303867 1 304122 3 304376 6 304613 3 304630 9 3...  \n",
              "5747  254911 3 255165 8 255419 12 255672 18 255926 2...  \n",
              "\n",
              "[5748 rows x 3 columns]"
            ]
          },
          "execution_count": 5,
          "metadata": {},
          "output_type": "execute_result"
        }
      ],
      "source": [
        "defect_class_mask_df"
      ]
    },
    {
      "cell_type": "code",
      "execution_count": 6,
      "metadata": {
        "colab": {
          "base_uri": "https://localhost:8080/",
          "height": 407
        },
        "id": "OiJTmyEBua4n",
        "outputId": "eb04f6dc-632e-427c-aaf6-9bd47118d9ab"
      },
      "outputs": [
        {
          "data": {
            "text/html": [
              "<div>\n",
              "<style scoped>\n",
              "    .dataframe tbody tr th:only-of-type {\n",
              "        vertical-align: middle;\n",
              "    }\n",
              "\n",
              "    .dataframe tbody tr th {\n",
              "        vertical-align: top;\n",
              "    }\n",
              "\n",
              "    .dataframe thead th {\n",
              "        text-align: right;\n",
              "    }\n",
              "</style>\n",
              "<table border=\"1\" class=\"dataframe\">\n",
              "  <thead>\n",
              "    <tr style=\"text-align: right;\">\n",
              "      <th></th>\n",
              "      <th>ImageID</th>\n",
              "      <th>label</th>\n",
              "    </tr>\n",
              "  </thead>\n",
              "  <tbody>\n",
              "    <tr>\n",
              "      <th>0</th>\n",
              "      <td>0002cc93b.jpg</td>\n",
              "      <td>1</td>\n",
              "    </tr>\n",
              "    <tr>\n",
              "      <th>1</th>\n",
              "      <td>0007a71bf.jpg</td>\n",
              "      <td>1</td>\n",
              "    </tr>\n",
              "    <tr>\n",
              "      <th>2</th>\n",
              "      <td>000a4bcdd.jpg</td>\n",
              "      <td>1</td>\n",
              "    </tr>\n",
              "    <tr>\n",
              "      <th>3</th>\n",
              "      <td>000f6bf48.jpg</td>\n",
              "      <td>1</td>\n",
              "    </tr>\n",
              "    <tr>\n",
              "      <th>4</th>\n",
              "      <td>0014fce06.jpg</td>\n",
              "      <td>1</td>\n",
              "    </tr>\n",
              "    <tr>\n",
              "      <th>...</th>\n",
              "      <td>...</td>\n",
              "      <td>...</td>\n",
              "    </tr>\n",
              "    <tr>\n",
              "      <th>12992</th>\n",
              "      <td>0482ee1d6.jpg</td>\n",
              "      <td>0</td>\n",
              "    </tr>\n",
              "    <tr>\n",
              "      <th>12993</th>\n",
              "      <td>04802a6c2.jpg</td>\n",
              "      <td>0</td>\n",
              "    </tr>\n",
              "    <tr>\n",
              "      <th>12994</th>\n",
              "      <td>03ae2bc91.jpg</td>\n",
              "      <td>0</td>\n",
              "    </tr>\n",
              "    <tr>\n",
              "      <th>12995</th>\n",
              "      <td>04238d7e3.jpg</td>\n",
              "      <td>0</td>\n",
              "    </tr>\n",
              "    <tr>\n",
              "      <th>12996</th>\n",
              "      <td>023353d24.jpg</td>\n",
              "      <td>0</td>\n",
              "    </tr>\n",
              "  </tbody>\n",
              "</table>\n",
              "<p>12997 rows × 2 columns</p>\n",
              "</div>"
            ],
            "text/plain": [
              "             ImageID  label\n",
              "0      0002cc93b.jpg      1\n",
              "1      0007a71bf.jpg      1\n",
              "2      000a4bcdd.jpg      1\n",
              "3      000f6bf48.jpg      1\n",
              "4      0014fce06.jpg      1\n",
              "...              ...    ...\n",
              "12992  0482ee1d6.jpg      0\n",
              "12993  04802a6c2.jpg      0\n",
              "12994  03ae2bc91.jpg      0\n",
              "12995  04238d7e3.jpg      0\n",
              "12996  023353d24.jpg      0\n",
              "\n",
              "[12997 rows x 2 columns]"
            ]
          },
          "execution_count": 6,
          "metadata": {},
          "output_type": "execute_result"
        }
      ],
      "source": [
        "all_images_df"
      ]
    },
    {
      "cell_type": "markdown",
      "metadata": {
        "id": "LlszUhNNyrl_"
      },
      "source": [
        "# TASK #3: VISUALIZE AND EXPLORE DATASET"
      ]
    },
    {
      "cell_type": "code",
      "execution_count": 7,
      "metadata": {
        "id": "ICj3NLbqqmve"
      },
      "outputs": [],
      "source": [
        "defect_class_mask_df['mask'] = defect_class_mask_df['ClassId'].map(lambda x: 1)"
      ]
    },
    {
      "cell_type": "code",
      "execution_count": 8,
      "metadata": {
        "colab": {
          "base_uri": "https://localhost:8080/",
          "height": 1000
        },
        "id": "0ZomzExDySgb",
        "outputId": "90396a76-9f6d-418e-9060-4747aab870f1"
      },
      "outputs": [
        {
          "data": {
            "text/html": [
              "<div>\n",
              "<style scoped>\n",
              "    .dataframe tbody tr th:only-of-type {\n",
              "        vertical-align: middle;\n",
              "    }\n",
              "\n",
              "    .dataframe tbody tr th {\n",
              "        vertical-align: top;\n",
              "    }\n",
              "\n",
              "    .dataframe thead th {\n",
              "        text-align: right;\n",
              "    }\n",
              "</style>\n",
              "<table border=\"1\" class=\"dataframe\">\n",
              "  <thead>\n",
              "    <tr style=\"text-align: right;\">\n",
              "      <th></th>\n",
              "      <th>ImageId</th>\n",
              "      <th>ClassId</th>\n",
              "      <th>EncodedPixels</th>\n",
              "      <th>mask</th>\n",
              "    </tr>\n",
              "  </thead>\n",
              "  <tbody>\n",
              "    <tr>\n",
              "      <th>0</th>\n",
              "      <td>d2291de5c.jpg</td>\n",
              "      <td>1</td>\n",
              "      <td>147963 3 148213 9 148461 18 148711 24 148965 2...</td>\n",
              "      <td>1</td>\n",
              "    </tr>\n",
              "    <tr>\n",
              "      <th>1</th>\n",
              "      <td>78416c3d0.jpg</td>\n",
              "      <td>3</td>\n",
              "      <td>54365 3 54621 7 54877 10 55133 12 55388 14 556...</td>\n",
              "      <td>1</td>\n",
              "    </tr>\n",
              "    <tr>\n",
              "      <th>2</th>\n",
              "      <td>2283f2183.jpg</td>\n",
              "      <td>3</td>\n",
              "      <td>201217 43 201473 128 201729 213 201985 5086 20...</td>\n",
              "      <td>1</td>\n",
              "    </tr>\n",
              "    <tr>\n",
              "      <th>3</th>\n",
              "      <td>f0dc068a8.jpg</td>\n",
              "      <td>3</td>\n",
              "      <td>159207 26 159412 77 159617 128 159822 179 1600...</td>\n",
              "      <td>1</td>\n",
              "    </tr>\n",
              "    <tr>\n",
              "      <th>4</th>\n",
              "      <td>00d639396.jpg</td>\n",
              "      <td>3</td>\n",
              "      <td>229356 17 229595 34 229850 36 230105 37 230360...</td>\n",
              "      <td>1</td>\n",
              "    </tr>\n",
              "    <tr>\n",
              "      <th>5</th>\n",
              "      <td>17d02873a.jpg</td>\n",
              "      <td>3</td>\n",
              "      <td>254980 43 255236 127 255492 211 255748 253 256...</td>\n",
              "      <td>1</td>\n",
              "    </tr>\n",
              "    <tr>\n",
              "      <th>6</th>\n",
              "      <td>47b5ab1bd.jpg</td>\n",
              "      <td>3</td>\n",
              "      <td>128976 8 129230 12 129484 16 129739 23 129995 ...</td>\n",
              "      <td>1</td>\n",
              "    </tr>\n",
              "    <tr>\n",
              "      <th>7</th>\n",
              "      <td>a6ecee828.jpg</td>\n",
              "      <td>3</td>\n",
              "      <td>179011 27 179126 73 179259 39 179375 80 179497...</td>\n",
              "      <td>1</td>\n",
              "    </tr>\n",
              "    <tr>\n",
              "      <th>8</th>\n",
              "      <td>11aaf18e2.jpg</td>\n",
              "      <td>3</td>\n",
              "      <td>303235 2 303489 7 303743 9 303997 11 304181 2 ...</td>\n",
              "      <td>1</td>\n",
              "    </tr>\n",
              "    <tr>\n",
              "      <th>9</th>\n",
              "      <td>cdf669a1f.jpg</td>\n",
              "      <td>4</td>\n",
              "      <td>310246 11 310499 25 310753 28 311007 31 311262...</td>\n",
              "      <td>1</td>\n",
              "    </tr>\n",
              "    <tr>\n",
              "      <th>10</th>\n",
              "      <td>fb9558035.jpg</td>\n",
              "      <td>4</td>\n",
              "      <td>159233 1 159489 2 159745 4 160001 5 160257 6 1...</td>\n",
              "      <td>1</td>\n",
              "    </tr>\n",
              "    <tr>\n",
              "      <th>11</th>\n",
              "      <td>9fac588ab.jpg</td>\n",
              "      <td>3</td>\n",
              "      <td>68321 32 68513 96 68706 159 68930 191 69186 19...</td>\n",
              "      <td>1</td>\n",
              "    </tr>\n",
              "    <tr>\n",
              "      <th>12</th>\n",
              "      <td>83d9b39c8.jpg</td>\n",
              "      <td>3</td>\n",
              "      <td>175089 15 175313 47 175538 78 175762 110 17598...</td>\n",
              "      <td>1</td>\n",
              "    </tr>\n",
              "    <tr>\n",
              "      <th>13</th>\n",
              "      <td>749407e33.jpg</td>\n",
              "      <td>3</td>\n",
              "      <td>15704 3 15960 8 16216 13 16471 19 16727 23 169...</td>\n",
              "      <td>1</td>\n",
              "    </tr>\n",
              "    <tr>\n",
              "      <th>14</th>\n",
              "      <td>e2bdd4236.jpg</td>\n",
              "      <td>3</td>\n",
              "      <td>17490 175 17746 175 18002 175 18258 175 18514 ...</td>\n",
              "      <td>1</td>\n",
              "    </tr>\n",
              "    <tr>\n",
              "      <th>15</th>\n",
              "      <td>8bab4626b.jpg</td>\n",
              "      <td>3</td>\n",
              "      <td>37390 2 37644 5 37898 7 38151 11 38405 13 3865...</td>\n",
              "      <td>1</td>\n",
              "    </tr>\n",
              "    <tr>\n",
              "      <th>16</th>\n",
              "      <td>3bde297da.jpg</td>\n",
              "      <td>3</td>\n",
              "      <td>154381 5 154635 17 154889 27 155143 36 155397 ...</td>\n",
              "      <td>1</td>\n",
              "    </tr>\n",
              "    <tr>\n",
              "      <th>17</th>\n",
              "      <td>ff5483763.jpg</td>\n",
              "      <td>3</td>\n",
              "      <td>168785 7 169034 20 169284 33 169533 46 169779 ...</td>\n",
              "      <td>1</td>\n",
              "    </tr>\n",
              "    <tr>\n",
              "      <th>18</th>\n",
              "      <td>a369c5c1f.jpg</td>\n",
              "      <td>3</td>\n",
              "      <td>18358 11 18606 32 18854 53 19102 73 19225 6 19...</td>\n",
              "      <td>1</td>\n",
              "    </tr>\n",
              "    <tr>\n",
              "      <th>19</th>\n",
              "      <td>d62e553a8.jpg</td>\n",
              "      <td>3</td>\n",
              "      <td>11453 1 11709 2 11964 4 12220 5 12475 7 12731 ...</td>\n",
              "      <td>1</td>\n",
              "    </tr>\n",
              "    <tr>\n",
              "      <th>20</th>\n",
              "      <td>ceccb1eef.jpg</td>\n",
              "      <td>1</td>\n",
              "      <td>361364 18 361613 42 361862 55 362112 67 362337...</td>\n",
              "      <td>1</td>\n",
              "    </tr>\n",
              "    <tr>\n",
              "      <th>21</th>\n",
              "      <td>eda5114ee.jpg</td>\n",
              "      <td>3</td>\n",
              "      <td>38877 2 39129 6 39381 10 39633 14 39885 18 401...</td>\n",
              "      <td>1</td>\n",
              "    </tr>\n",
              "    <tr>\n",
              "      <th>22</th>\n",
              "      <td>23c450c03.jpg</td>\n",
              "      <td>1</td>\n",
              "      <td>9251 24 9505 29 9759 32 10013 36 10267 39 1032...</td>\n",
              "      <td>1</td>\n",
              "    </tr>\n",
              "    <tr>\n",
              "      <th>23</th>\n",
              "      <td>ab6afa374.jpg</td>\n",
              "      <td>3</td>\n",
              "      <td>65986 39 66165 116 66344 193 66561 232 66817 2...</td>\n",
              "      <td>1</td>\n",
              "    </tr>\n",
              "    <tr>\n",
              "      <th>24</th>\n",
              "      <td>a0906d0b3.jpg</td>\n",
              "      <td>4</td>\n",
              "      <td>213842 5 214096 9 214351 11 214605 15 214860 1...</td>\n",
              "      <td>1</td>\n",
              "    </tr>\n",
              "    <tr>\n",
              "      <th>25</th>\n",
              "      <td>5562229c3.jpg</td>\n",
              "      <td>3</td>\n",
              "      <td>22966 17 23189 49 23412 82 23636 113 23859 145...</td>\n",
              "      <td>1</td>\n",
              "    </tr>\n",
              "    <tr>\n",
              "      <th>26</th>\n",
              "      <td>2365be47a.jpg</td>\n",
              "      <td>3</td>\n",
              "      <td>31096 3 31352 7 31608 12 31863 17 32119 21 323...</td>\n",
              "      <td>1</td>\n",
              "    </tr>\n",
              "    <tr>\n",
              "      <th>27</th>\n",
              "      <td>737ae5c95.jpg</td>\n",
              "      <td>4</td>\n",
              "      <td>50890 4 51146 6 51401 8 51657 9 51912 11 52048...</td>\n",
              "      <td>1</td>\n",
              "    </tr>\n",
              "    <tr>\n",
              "      <th>28</th>\n",
              "      <td>f89ce1e24.jpg</td>\n",
              "      <td>3</td>\n",
              "      <td>325112 9 325352 25 325592 41 325832 57 326071 ...</td>\n",
              "      <td>1</td>\n",
              "    </tr>\n",
              "    <tr>\n",
              "      <th>29</th>\n",
              "      <td>a239718e1.jpg</td>\n",
              "      <td>3</td>\n",
              "      <td>322214 4 322470 12 322726 20 322982 28 323238 ...</td>\n",
              "      <td>1</td>\n",
              "    </tr>\n",
              "    <tr>\n",
              "      <th>30</th>\n",
              "      <td>2694c98fb.jpg</td>\n",
              "      <td>3</td>\n",
              "      <td>212692 11 212928 31 213164 51 213400 71 213636...</td>\n",
              "      <td>1</td>\n",
              "    </tr>\n",
              "    <tr>\n",
              "      <th>31</th>\n",
              "      <td>a9108753d.jpg</td>\n",
              "      <td>3</td>\n",
              "      <td>3244 4 3494 10 3743 18 3993 24 4245 28 4501 29...</td>\n",
              "      <td>1</td>\n",
              "    </tr>\n",
              "    <tr>\n",
              "      <th>32</th>\n",
              "      <td>c4f5ebbb2.jpg</td>\n",
              "      <td>4</td>\n",
              "      <td>229758 5 230006 13 230254 21 230502 29 230750 ...</td>\n",
              "      <td>1</td>\n",
              "    </tr>\n",
              "    <tr>\n",
              "      <th>33</th>\n",
              "      <td>75361926d.jpg</td>\n",
              "      <td>4</td>\n",
              "      <td>144404 7 144652 17 144906 20 145160 24 145414 ...</td>\n",
              "      <td>1</td>\n",
              "    </tr>\n",
              "    <tr>\n",
              "      <th>34</th>\n",
              "      <td>fc8cb11db.jpg</td>\n",
              "      <td>1</td>\n",
              "      <td>271869 4 272115 14 272358 27 272601 40 272845 ...</td>\n",
              "      <td>1</td>\n",
              "    </tr>\n",
              "    <tr>\n",
              "      <th>35</th>\n",
              "      <td>9f054c54f.jpg</td>\n",
              "      <td>1</td>\n",
              "      <td>191060 15 191309 24 191563 29 191818 32 191889...</td>\n",
              "      <td>1</td>\n",
              "    </tr>\n",
              "    <tr>\n",
              "      <th>36</th>\n",
              "      <td>faea44200.jpg</td>\n",
              "      <td>3</td>\n",
              "      <td>308123 102 308379 102 308635 102 308891 102 30...</td>\n",
              "      <td>1</td>\n",
              "    </tr>\n",
              "    <tr>\n",
              "      <th>37</th>\n",
              "      <td>9b72243dc.jpg</td>\n",
              "      <td>3</td>\n",
              "      <td>207915 9 208167 28 208385 2 208420 44 208641 6...</td>\n",
              "      <td>1</td>\n",
              "    </tr>\n",
              "    <tr>\n",
              "      <th>38</th>\n",
              "      <td>10bbf7cb3.jpg</td>\n",
              "      <td>3</td>\n",
              "      <td>324770 1 325024 5 325278 8 325533 11 325787 14...</td>\n",
              "      <td>1</td>\n",
              "    </tr>\n",
              "    <tr>\n",
              "      <th>39</th>\n",
              "      <td>d1cd969d5.jpg</td>\n",
              "      <td>3</td>\n",
              "      <td>307684 6 307916 7 307937 11 308167 13 308191 1...</td>\n",
              "      <td>1</td>\n",
              "    </tr>\n",
              "    <tr>\n",
              "      <th>40</th>\n",
              "      <td>1082cfe08.jpg</td>\n",
              "      <td>4</td>\n",
              "      <td>240140 9 240395 27 240650 46 240905 64 241160 ...</td>\n",
              "      <td>1</td>\n",
              "    </tr>\n",
              "    <tr>\n",
              "      <th>41</th>\n",
              "      <td>927be944d.jpg</td>\n",
              "      <td>1</td>\n",
              "      <td>26369 15 26625 30 26881 30 27137 30 27393 31 2...</td>\n",
              "      <td>1</td>\n",
              "    </tr>\n",
              "    <tr>\n",
              "      <th>42</th>\n",
              "      <td>0518e79e9.jpg</td>\n",
              "      <td>3</td>\n",
              "      <td>154369 38 154625 42 154881 46 155137 50 155393...</td>\n",
              "      <td>1</td>\n",
              "    </tr>\n",
              "    <tr>\n",
              "      <th>43</th>\n",
              "      <td>64934ac51.jpg</td>\n",
              "      <td>3</td>\n",
              "      <td>357377 28 357633 83 357889 130 358145 169 3584...</td>\n",
              "      <td>1</td>\n",
              "    </tr>\n",
              "    <tr>\n",
              "      <th>44</th>\n",
              "      <td>26b0e74fe.jpg</td>\n",
              "      <td>3</td>\n",
              "      <td>156299 6 156545 16 156791 25 157037 35 157283 ...</td>\n",
              "      <td>1</td>\n",
              "    </tr>\n",
              "    <tr>\n",
              "      <th>45</th>\n",
              "      <td>7b2257638.jpg</td>\n",
              "      <td>3</td>\n",
              "      <td>77828 64 78084 190 78340 253 78596 253 78852 2...</td>\n",
              "      <td>1</td>\n",
              "    </tr>\n",
              "    <tr>\n",
              "      <th>46</th>\n",
              "      <td>975f12b62.jpg</td>\n",
              "      <td>3</td>\n",
              "      <td>185857 11 186113 31 186369 51 186625 72 186881...</td>\n",
              "      <td>1</td>\n",
              "    </tr>\n",
              "    <tr>\n",
              "      <th>47</th>\n",
              "      <td>92932546c.jpg</td>\n",
              "      <td>3</td>\n",
              "      <td>53236 13 53468 37 53700 61 53931 86 54163 110 ...</td>\n",
              "      <td>1</td>\n",
              "    </tr>\n",
              "    <tr>\n",
              "      <th>48</th>\n",
              "      <td>464a009f9.jpg</td>\n",
              "      <td>3</td>\n",
              "      <td>81550 10 81792 31 82034 52 82277 73 82519 94 8...</td>\n",
              "      <td>1</td>\n",
              "    </tr>\n",
              "    <tr>\n",
              "      <th>49</th>\n",
              "      <td>24db6ba0d.jpg</td>\n",
              "      <td>1</td>\n",
              "      <td>217946 7 218143 4 218198 21 218373 2 218394 13...</td>\n",
              "      <td>1</td>\n",
              "    </tr>\n",
              "  </tbody>\n",
              "</table>\n",
              "</div>"
            ],
            "text/plain": [
              "          ImageId  ClassId                                      EncodedPixels  \\\n",
              "0   d2291de5c.jpg        1  147963 3 148213 9 148461 18 148711 24 148965 2...   \n",
              "1   78416c3d0.jpg        3  54365 3 54621 7 54877 10 55133 12 55388 14 556...   \n",
              "2   2283f2183.jpg        3  201217 43 201473 128 201729 213 201985 5086 20...   \n",
              "3   f0dc068a8.jpg        3  159207 26 159412 77 159617 128 159822 179 1600...   \n",
              "4   00d639396.jpg        3  229356 17 229595 34 229850 36 230105 37 230360...   \n",
              "5   17d02873a.jpg        3  254980 43 255236 127 255492 211 255748 253 256...   \n",
              "6   47b5ab1bd.jpg        3  128976 8 129230 12 129484 16 129739 23 129995 ...   \n",
              "7   a6ecee828.jpg        3  179011 27 179126 73 179259 39 179375 80 179497...   \n",
              "8   11aaf18e2.jpg        3  303235 2 303489 7 303743 9 303997 11 304181 2 ...   \n",
              "9   cdf669a1f.jpg        4  310246 11 310499 25 310753 28 311007 31 311262...   \n",
              "10  fb9558035.jpg        4  159233 1 159489 2 159745 4 160001 5 160257 6 1...   \n",
              "11  9fac588ab.jpg        3  68321 32 68513 96 68706 159 68930 191 69186 19...   \n",
              "12  83d9b39c8.jpg        3  175089 15 175313 47 175538 78 175762 110 17598...   \n",
              "13  749407e33.jpg        3  15704 3 15960 8 16216 13 16471 19 16727 23 169...   \n",
              "14  e2bdd4236.jpg        3  17490 175 17746 175 18002 175 18258 175 18514 ...   \n",
              "15  8bab4626b.jpg        3  37390 2 37644 5 37898 7 38151 11 38405 13 3865...   \n",
              "16  3bde297da.jpg        3  154381 5 154635 17 154889 27 155143 36 155397 ...   \n",
              "17  ff5483763.jpg        3  168785 7 169034 20 169284 33 169533 46 169779 ...   \n",
              "18  a369c5c1f.jpg        3  18358 11 18606 32 18854 53 19102 73 19225 6 19...   \n",
              "19  d62e553a8.jpg        3  11453 1 11709 2 11964 4 12220 5 12475 7 12731 ...   \n",
              "20  ceccb1eef.jpg        1  361364 18 361613 42 361862 55 362112 67 362337...   \n",
              "21  eda5114ee.jpg        3  38877 2 39129 6 39381 10 39633 14 39885 18 401...   \n",
              "22  23c450c03.jpg        1  9251 24 9505 29 9759 32 10013 36 10267 39 1032...   \n",
              "23  ab6afa374.jpg        3  65986 39 66165 116 66344 193 66561 232 66817 2...   \n",
              "24  a0906d0b3.jpg        4  213842 5 214096 9 214351 11 214605 15 214860 1...   \n",
              "25  5562229c3.jpg        3  22966 17 23189 49 23412 82 23636 113 23859 145...   \n",
              "26  2365be47a.jpg        3  31096 3 31352 7 31608 12 31863 17 32119 21 323...   \n",
              "27  737ae5c95.jpg        4  50890 4 51146 6 51401 8 51657 9 51912 11 52048...   \n",
              "28  f89ce1e24.jpg        3  325112 9 325352 25 325592 41 325832 57 326071 ...   \n",
              "29  a239718e1.jpg        3  322214 4 322470 12 322726 20 322982 28 323238 ...   \n",
              "30  2694c98fb.jpg        3  212692 11 212928 31 213164 51 213400 71 213636...   \n",
              "31  a9108753d.jpg        3  3244 4 3494 10 3743 18 3993 24 4245 28 4501 29...   \n",
              "32  c4f5ebbb2.jpg        4  229758 5 230006 13 230254 21 230502 29 230750 ...   \n",
              "33  75361926d.jpg        4  144404 7 144652 17 144906 20 145160 24 145414 ...   \n",
              "34  fc8cb11db.jpg        1  271869 4 272115 14 272358 27 272601 40 272845 ...   \n",
              "35  9f054c54f.jpg        1  191060 15 191309 24 191563 29 191818 32 191889...   \n",
              "36  faea44200.jpg        3  308123 102 308379 102 308635 102 308891 102 30...   \n",
              "37  9b72243dc.jpg        3  207915 9 208167 28 208385 2 208420 44 208641 6...   \n",
              "38  10bbf7cb3.jpg        3  324770 1 325024 5 325278 8 325533 11 325787 14...   \n",
              "39  d1cd969d5.jpg        3  307684 6 307916 7 307937 11 308167 13 308191 1...   \n",
              "40  1082cfe08.jpg        4  240140 9 240395 27 240650 46 240905 64 241160 ...   \n",
              "41  927be944d.jpg        1  26369 15 26625 30 26881 30 27137 30 27393 31 2...   \n",
              "42  0518e79e9.jpg        3  154369 38 154625 42 154881 46 155137 50 155393...   \n",
              "43  64934ac51.jpg        3  357377 28 357633 83 357889 130 358145 169 3584...   \n",
              "44  26b0e74fe.jpg        3  156299 6 156545 16 156791 25 157037 35 157283 ...   \n",
              "45  7b2257638.jpg        3  77828 64 78084 190 78340 253 78596 253 78852 2...   \n",
              "46  975f12b62.jpg        3  185857 11 186113 31 186369 51 186625 72 186881...   \n",
              "47  92932546c.jpg        3  53236 13 53468 37 53700 61 53931 86 54163 110 ...   \n",
              "48  464a009f9.jpg        3  81550 10 81792 31 82034 52 82277 73 82519 94 8...   \n",
              "49  24db6ba0d.jpg        1  217946 7 218143 4 218198 21 218373 2 218394 13...   \n",
              "\n",
              "    mask  \n",
              "0      1  \n",
              "1      1  \n",
              "2      1  \n",
              "3      1  \n",
              "4      1  \n",
              "5      1  \n",
              "6      1  \n",
              "7      1  \n",
              "8      1  \n",
              "9      1  \n",
              "10     1  \n",
              "11     1  \n",
              "12     1  \n",
              "13     1  \n",
              "14     1  \n",
              "15     1  \n",
              "16     1  \n",
              "17     1  \n",
              "18     1  \n",
              "19     1  \n",
              "20     1  \n",
              "21     1  \n",
              "22     1  \n",
              "23     1  \n",
              "24     1  \n",
              "25     1  \n",
              "26     1  \n",
              "27     1  \n",
              "28     1  \n",
              "29     1  \n",
              "30     1  \n",
              "31     1  \n",
              "32     1  \n",
              "33     1  \n",
              "34     1  \n",
              "35     1  \n",
              "36     1  \n",
              "37     1  \n",
              "38     1  \n",
              "39     1  \n",
              "40     1  \n",
              "41     1  \n",
              "42     1  \n",
              "43     1  \n",
              "44     1  \n",
              "45     1  \n",
              "46     1  \n",
              "47     1  \n",
              "48     1  \n",
              "49     1  "
            ]
          },
          "execution_count": 8,
          "metadata": {},
          "output_type": "execute_result"
        }
      ],
      "source": [
        "defect_class_mask_df.head(50)"
      ]
    },
    {
      "cell_type": "code",
      "execution_count": 9,
      "metadata": {
        "colab": {
          "base_uri": "https://localhost:8080/",
          "height": 639
        },
        "id": "sddcLXnFzMAy",
        "outputId": "a65ceccc-632d-4f83-da24-6036145c9f1d"
      },
      "outputs": [
        {
          "name": "stderr",
          "output_type": "stream",
          "text": [
            "C:\\ProgramData\\Anaconda3\\lib\\site-packages\\seaborn\\_decorators.py:36: FutureWarning: Pass the following variable as a keyword arg: x. From version 0.12, the only valid positional argument will be `data`, and passing other arguments without an explicit keyword will result in an error or misinterpretation.\n",
            "  warnings.warn(\n"
          ]
        },
        {
          "data": {
            "text/plain": [
              "Text(0.5, 1.0, 'Number of images per class')"
            ]
          },
          "execution_count": 9,
          "metadata": {},
          "output_type": "execute_result"
        },
        {
          "data": {
            "image/png": "[encoded data removed]",
            "text/plain": [
              "<Figure size 720x720 with 1 Axes>"
            ]
          },
          "metadata": {
            "needs_background": "light"
          },
          "output_type": "display_data"
        }
      ],
      "source": [
        "plt.figure(figsize=(10,10))\n",
        "sns.countplot(defect_class_mask_df['ClassId'])\n",
        "plt.ylabel('Number of images per defect')\n",
        "plt.xlabel('ClassID')\n",
        "plt.title('Number of images per class')"
      ]
    },
    {
      "cell_type": "code",
      "execution_count": 10,
      "metadata": {
        "id": "za48tcXcx1FS"
      },
      "outputs": [],
      "source": [
        "# Some images are classified with more than one defect, let's explore this futher\n",
        "# we have one image with 3 types of defects \n",
        "# we have 272 images with 2 types of defects\n",
        "# we have 5201 images with 1 type of defect\n",
        "defect_type = defect_class_mask_df.groupby(['ImageId'])['mask'].sum()\n"
      ]
    },
    {
      "cell_type": "code",
      "execution_count": 11,
      "metadata": {
        "colab": {
          "base_uri": "https://localhost:8080/",
          "height": 254
        },
        "id": "R4g-1HFErAUW",
        "outputId": "5d746f04-f735-4b78-af2f-458c18047010"
      },
      "outputs": [
        {
          "data": {
            "text/plain": [
              "ImageId\n",
              "0002cc93b.jpg    1\n",
              "0007a71bf.jpg    1\n",
              "000a4bcdd.jpg    1\n",
              "000f6bf48.jpg    1\n",
              "0014fce06.jpg    1\n",
              "                ..\n",
              "ffcf72ecf.jpg    1\n",
              "fff02e9c5.jpg    1\n",
              "fffe98443.jpg    1\n",
              "ffff4eaa8.jpg    1\n",
              "ffffd67df.jpg    1\n",
              "Name: mask, Length: 5474, dtype: int64"
            ]
          },
          "execution_count": 11,
          "metadata": {},
          "output_type": "execute_result"
        }
      ],
      "source": [
        "defect_type"
      ]
    },
    {
      "cell_type": "code",
      "execution_count": 12,
      "metadata": {
        "colab": {
          "base_uri": "https://localhost:8080/",
          "height": 90
        },
        "id": "qlKDGvA7rVVL",
        "outputId": "dd8ffb2e-436d-48c3-a3f2-c746db54b698"
      },
      "outputs": [
        {
          "data": {
            "text/plain": [
              "1    5201\n",
              "2     272\n",
              "3       1\n",
              "Name: mask, dtype: int64"
            ]
          },
          "execution_count": 12,
          "metadata": {},
          "output_type": "execute_result"
        }
      ],
      "source": [
        "defect_type.value_counts()"
      ]
    },
    {
      "cell_type": "code",
      "execution_count": 13,
      "metadata": {
        "colab": {
          "base_uri": "https://localhost:8080/",
          "height": 639
        },
        "id": "Yhm-Y9Tlx1H_",
        "outputId": "5fecedb9-f0ef-4c38-fabf-bdef61417a62"
      },
      "outputs": [
        {
          "data": {
            "text/plain": [
              "Text(0.5, 1.0, 'Number of defects in image')"
            ]
          },
          "execution_count": 13,
          "metadata": {},
          "output_type": "execute_result"
        },
        {
          "data": {
            "image/png": "[encoded data removed]",
            "text/plain": [
              "<Figure size 720x720 with 1 Axes>"
            ]
          },
          "metadata": {
            "needs_background": "light"
          },
          "output_type": "display_data"
        }
      ],
      "source": [
        "plt.figure(figsize=(10,10))\n",
        "sns.barplot(x = defect_type.value_counts().index, y = defect_type.value_counts() )\n",
        "plt.xlabel('ClassID')\n",
        "plt.title('Number of defects in image')"
      ]
    },
    {
      "cell_type": "code",
      "execution_count": 14,
      "metadata": {
        "colab": {
          "base_uri": "https://localhost:8080/",
          "height": 35
        },
        "id": "W0QetIIS0ekU",
        "outputId": "5b9f8936-dc2e-46ff-c77b-5a175125b2e4"
      },
      "outputs": [
        {
          "data": {
            "text/plain": [
              "(5748, 4)"
            ]
          },
          "execution_count": 14,
          "metadata": {},
          "output_type": "execute_result"
        }
      ],
      "source": [
        "defect_class_mask_df.shape"
      ]
    },
    {
      "cell_type": "code",
      "execution_count": 15,
      "metadata": {
        "colab": {
          "base_uri": "https://localhost:8080/",
          "height": 35
        },
        "id": "9iYFwJtG0em_",
        "outputId": "9c92cb7d-2bf9-4b73-8358-c8fd6aa02c7b"
      },
      "outputs": [
        {
          "data": {
            "text/plain": [
              "(12997, 2)"
            ]
          },
          "execution_count": 15,
          "metadata": {},
          "output_type": "execute_result"
        }
      ],
      "source": [
        "all_images_df.shape"
      ]
    },
    {
      "cell_type": "code",
      "execution_count": 16,
      "metadata": {
        "colab": {
          "base_uri": "https://localhost:8080/",
          "height": 72
        },
        "id": "ZtK2Dozi0epR",
        "outputId": "9501ab46-9439-4d8c-b3ad-1f4243249c8a"
      },
      "outputs": [
        {
          "data": {
            "text/plain": [
              "1    7095\n",
              "0    5902\n",
              "Name: label, dtype: int64"
            ]
          },
          "execution_count": 16,
          "metadata": {},
          "output_type": "execute_result"
        }
      ],
      "source": [
        "# Let's count defective and non defective images\n",
        "all_images_df.label.value_counts()"
      ]
    },
    {
      "cell_type": "code",
      "execution_count": 17,
      "metadata": {
        "colab": {
          "base_uri": "https://localhost:8080/",
          "height": 639
        },
        "id": "Wug5WIimucRM",
        "outputId": "33eb3ecf-f2da-4f69-9e52-b216080b21bc"
      },
      "outputs": [
        {
          "data": {
            "text/plain": [
              "Text(0.5, 1.0, 'Defect and non-defect images')"
            ]
          },
          "execution_count": 17,
          "metadata": {},
          "output_type": "execute_result"
        },
        {
          "data": {
            "image/png": "[encoded data removed]",
            "text/plain": [
              "<Figure size 720x720 with 1 Axes>"
            ]
          },
          "metadata": {
            "needs_background": "light"
          },
          "output_type": "display_data"
        }
      ],
      "source": [
        "plt.figure(figsize=(10,10))\n",
        "sns.barplot(x = all_images_df.label.value_counts().index, y = all_images_df.label.value_counts() )\n",
        "plt.ylabel('Number of images ')\n",
        "plt.xlabel('0 - Non-defect             1- Defect')\n",
        "plt.title('Defect and non-defect images')"
      ]
    },
    {
      "cell_type": "code",
      "execution_count": 18,
      "metadata": {
        "colab": {
          "base_uri": "https://localhost:8080/",
          "height": 1000
        },
        "id": "Tpb9SQ-W0tfu",
        "outputId": "6e97c0a6-a8ed-44ec-b99d-0470e1dbe21a"
      },
      "outputs": [
        {
          "data": {
            "image/png": "[encoded data removed]",
            "text/plain": [
              "<Figure size 432x288 with 1 Axes>"
            ]
          },
          "metadata": {
            "needs_background": "light"
          },
          "output_type": "display_data"
        },
        {
          "data": {
            "image/png": "[encoded data removed]",
            "text/plain": [
              "<Figure size 432x288 with 1 Axes>"
            ]
          },
          "metadata": {
            "needs_background": "light"
          },
          "output_type": "display_data"
        },
        {
          "data": {
            "image/png": "[encoded data removed]",
            "text/plain": [
              "<Figure size 432x288 with 1 Axes>"
            ]
          },
          "metadata": {
            "needs_background": "light"
          },
          "output_type": "display_data"
        },
        {
          "data": {
            "image/png": "[encoded data removed]",
            "text/plain": [
              "<Figure size 432x288 with 1 Axes>"
            ]
          },
          "metadata": {
            "needs_background": "light"
          },
          "output_type": "display_data"
        },
        {
          "data": {
            "image/png": "[encoded data removed]",
            "text/plain": [
              "<Figure size 432x288 with 1 Axes>"
            ]
          },
          "metadata": {
            "needs_background": "light"
          },
          "output_type": "display_data"
        },
        {
          "data": {
            "image/png": "[encoded data removed]",
            "text/plain": [
              "<Figure size 432x288 with 1 Axes>"
            ]
          },
          "metadata": {
            "needs_background": "light"
          },
          "output_type": "display_data"
        },
        {
          "data": {
            "image/png": "[encoded data removed]",
            "text/plain": [
              "<Figure size 432x288 with 1 Axes>"
            ]
          },
          "metadata": {
            "needs_background": "light"
          },
          "output_type": "display_data"
        },
        {
          "data": {
            "image/png": "[encoded data removed]",
            "text/plain": [
              "<Figure size 432x288 with 1 Axes>"
            ]
          },
          "metadata": {
            "needs_background": "light"
          },
          "output_type": "display_data"
        },
        {
          "data": {
            "image/png": "[encoded data removed]",
            "text/plain": [
              "<Figure size 432x288 with 1 Axes>"
            ]
          },
          "metadata": {
            "needs_background": "light"
          },
          "output_type": "display_data"
        },
        {
          "data": {
            "image/png": "[encoded data removed]",
            "text/plain": [
              "<Figure size 432x288 with 1 Axes>"
            ]
          },
          "metadata": {
            "needs_background": "light"
          },
          "output_type": "display_data"
        }
      ],
      "source": [
        "# Visualize images with defects along with their corresponding labels\n",
        "# Images are 256 x 1600\n",
        "\n",
        "train_dir = 'train_images'\n",
        "\n",
        "for i in range(10):\n",
        "  # Specify the path to the images given their image ID\n",
        "  img = io.imread(os.path.join(train_dir, defect_class_mask_df.ImageId[i]))\n",
        "  plt.figure()\n",
        "  plt.title(defect_class_mask_df.ClassId[i])\n",
        "  plt.imshow(img)\n"
      ]
    },
    {
      "cell_type": "code",
      "execution_count": 19,
      "metadata": {
        "colab": {
          "base_uri": "https://localhost:8080/",
          "height": 35
        },
        "id": "SQ7GMxpy6fgd",
        "outputId": "308657b9-3f3e-4820-9f12-f34ff9361376"
      },
      "outputs": [],
      "source": [
        "# Utilities file contains the code for rle2mask, mask2rle, custom loss function and custom data generator\n",
        "# since the data provided for segmentation is in RLE format (run length encoded), we will be using the following function to convert the RLE to mask. \n",
        "# we can convert the mask back again to RLE to assess model performance (accuracy).\n",
        "# Code source for these function came from: https://www.kaggle.com/paulorzp/rle-functions-run-lenght-encode-decode\n",
        "\n",
        "from utilities import rle2mask , mask2rle\n",
        "\n",
        "train_dir = 'train_images'\n",
        "\n"
      ]
    },
    {
      "cell_type": "code",
      "execution_count": 20,
      "metadata": {
        "colab": {
          "base_uri": "https://localhost:8080/",
          "height": 407
        },
        "id": "1uIpuNYz75is",
        "outputId": "c62b0c7f-2014-4a6d-e9d5-b368f3cdf7cb"
      },
      "outputs": [
        {
          "data": {
            "text/html": [
              "<div>\n",
              "<style scoped>\n",
              "    .dataframe tbody tr th:only-of-type {\n",
              "        vertical-align: middle;\n",
              "    }\n",
              "\n",
              "    .dataframe tbody tr th {\n",
              "        vertical-align: top;\n",
              "    }\n",
              "\n",
              "    .dataframe thead th {\n",
              "        text-align: right;\n",
              "    }\n",
              "</style>\n",
              "<table border=\"1\" class=\"dataframe\">\n",
              "  <thead>\n",
              "    <tr style=\"text-align: right;\">\n",
              "      <th></th>\n",
              "      <th>ImageId</th>\n",
              "      <th>ClassId</th>\n",
              "      <th>EncodedPixels</th>\n",
              "      <th>mask</th>\n",
              "    </tr>\n",
              "  </thead>\n",
              "  <tbody>\n",
              "    <tr>\n",
              "      <th>0</th>\n",
              "      <td>d2291de5c.jpg</td>\n",
              "      <td>1</td>\n",
              "      <td>147963 3 148213 9 148461 18 148711 24 148965 2...</td>\n",
              "      <td>1</td>\n",
              "    </tr>\n",
              "    <tr>\n",
              "      <th>1</th>\n",
              "      <td>78416c3d0.jpg</td>\n",
              "      <td>3</td>\n",
              "      <td>54365 3 54621 7 54877 10 55133 12 55388 14 556...</td>\n",
              "      <td>1</td>\n",
              "    </tr>\n",
              "    <tr>\n",
              "      <th>2</th>\n",
              "      <td>2283f2183.jpg</td>\n",
              "      <td>3</td>\n",
              "      <td>201217 43 201473 128 201729 213 201985 5086 20...</td>\n",
              "      <td>1</td>\n",
              "    </tr>\n",
              "    <tr>\n",
              "      <th>3</th>\n",
              "      <td>f0dc068a8.jpg</td>\n",
              "      <td>3</td>\n",
              "      <td>159207 26 159412 77 159617 128 159822 179 1600...</td>\n",
              "      <td>1</td>\n",
              "    </tr>\n",
              "    <tr>\n",
              "      <th>4</th>\n",
              "      <td>00d639396.jpg</td>\n",
              "      <td>3</td>\n",
              "      <td>229356 17 229595 34 229850 36 230105 37 230360...</td>\n",
              "      <td>1</td>\n",
              "    </tr>\n",
              "    <tr>\n",
              "      <th>...</th>\n",
              "      <td>...</td>\n",
              "      <td>...</td>\n",
              "      <td>...</td>\n",
              "      <td>...</td>\n",
              "    </tr>\n",
              "    <tr>\n",
              "      <th>5743</th>\n",
              "      <td>c12842f5e.jpg</td>\n",
              "      <td>3</td>\n",
              "      <td>88 23 342 29 596 34 850 39 1105 44 1361 46 161...</td>\n",
              "      <td>1</td>\n",
              "    </tr>\n",
              "    <tr>\n",
              "      <th>5744</th>\n",
              "      <td>2222a03b3.jpg</td>\n",
              "      <td>3</td>\n",
              "      <td>63332 4 63587 11 63841 20 64096 27 64351 35 64...</td>\n",
              "      <td>1</td>\n",
              "    </tr>\n",
              "    <tr>\n",
              "      <th>5745</th>\n",
              "      <td>b43ea2c01.jpg</td>\n",
              "      <td>1</td>\n",
              "      <td>185024 7 185279 11 185535 12 185790 13 186045 ...</td>\n",
              "      <td>1</td>\n",
              "    </tr>\n",
              "    <tr>\n",
              "      <th>5746</th>\n",
              "      <td>1bc37a6f4.jpg</td>\n",
              "      <td>3</td>\n",
              "      <td>303867 1 304122 3 304376 6 304613 3 304630 9 3...</td>\n",
              "      <td>1</td>\n",
              "    </tr>\n",
              "    <tr>\n",
              "      <th>5747</th>\n",
              "      <td>f4413e172.jpg</td>\n",
              "      <td>3</td>\n",
              "      <td>254911 3 255165 8 255419 12 255672 18 255926 2...</td>\n",
              "      <td>1</td>\n",
              "    </tr>\n",
              "  </tbody>\n",
              "</table>\n",
              "<p>5748 rows × 4 columns</p>\n",
              "</div>"
            ],
            "text/plain": [
              "            ImageId  ClassId  \\\n",
              "0     d2291de5c.jpg        1   \n",
              "1     78416c3d0.jpg        3   \n",
              "2     2283f2183.jpg        3   \n",
              "3     f0dc068a8.jpg        3   \n",
              "4     00d639396.jpg        3   \n",
              "...             ...      ...   \n",
              "5743  c12842f5e.jpg        3   \n",
              "5744  2222a03b3.jpg        3   \n",
              "5745  b43ea2c01.jpg        1   \n",
              "5746  1bc37a6f4.jpg        3   \n",
              "5747  f4413e172.jpg        3   \n",
              "\n",
              "                                          EncodedPixels  mask  \n",
              "0     147963 3 148213 9 148461 18 148711 24 148965 2...     1  \n",
              "1     54365 3 54621 7 54877 10 55133 12 55388 14 556...     1  \n",
              "2     201217 43 201473 128 201729 213 201985 5086 20...     1  \n",
              "3     159207 26 159412 77 159617 128 159822 179 1600...     1  \n",
              "4     229356 17 229595 34 229850 36 230105 37 230360...     1  \n",
              "...                                                 ...   ...  \n",
              "5743  88 23 342 29 596 34 850 39 1105 44 1361 46 161...     1  \n",
              "5744  63332 4 63587 11 63841 20 64096 27 64351 35 64...     1  \n",
              "5745  185024 7 185279 11 185535 12 185790 13 186045 ...     1  \n",
              "5746  303867 1 304122 3 304376 6 304613 3 304630 9 3...     1  \n",
              "5747  254911 3 255165 8 255419 12 255672 18 255926 2...     1  \n",
              "\n",
              "[5748 rows x 4 columns]"
            ]
          },
          "execution_count": 20,
          "metadata": {},
          "output_type": "execute_result"
        }
      ],
      "source": [
        "defect_class_mask_df"
      ]
    },
    {
      "cell_type": "code",
      "execution_count": 21,
      "metadata": {
        "colab": {
          "base_uri": "https://localhost:8080/",
          "height": 35
        },
        "id": "Px2F3RkW8lP-",
        "outputId": "effe8578-236d-4fde-ae29-32afdd089de0"
      },
      "outputs": [
        {
          "data": {
            "text/plain": [
              "(256, 1600)"
            ]
          },
          "execution_count": 21,
          "metadata": {},
          "output_type": "execute_result"
        }
      ],
      "source": [
        "# Let's try to use the rle2mask on a sample image \n",
        "image_index = 20 #20 30\n",
        "mask = rle2mask(defect_class_mask_df.EncodedPixels[image_index], img.shape[0], img.shape[1])\n",
        "mask.shape"
      ]
    },
    {
      "cell_type": "code",
      "execution_count": 22,
      "metadata": {
        "colab": {
          "base_uri": "https://localhost:8080/",
          "height": 123
        },
        "id": "uHeb7j-486d8",
        "outputId": "c0a5af53-b507-4b83-986e-1fe3bb352549"
      },
      "outputs": [
        {
          "data": {
            "text/plain": [
              "<matplotlib.image.AxesImage at 0x1ef695a0580>"
            ]
          },
          "execution_count": 22,
          "metadata": {},
          "output_type": "execute_result"
        },
        {
          "data": {
            "image/png": "[encoded data removed]",
            "text/plain": [
              "<Figure size 432x288 with 1 Axes>"
            ]
          },
          "metadata": {
            "needs_background": "light"
          },
          "output_type": "display_data"
        }
      ],
      "source": [
        "# Let's show the mask\n",
        "plt.imshow(mask)"
      ]
    },
    {
      "cell_type": "code",
      "execution_count": 23,
      "metadata": {
        "colab": {
          "base_uri": "https://localhost:8080/",
          "height": 123
        },
        "id": "MRNgXKF98_y6",
        "outputId": "0fbae284-aa40-4bb8-bfd8-7bc88f7a337c"
      },
      "outputs": [
        {
          "data": {
            "text/plain": [
              "(256, 1600, 3)"
            ]
          },
          "execution_count": 23,
          "metadata": {},
          "output_type": "execute_result"
        },
        {
          "data": {
            "image/png": "[encoded data removed]",
            "text/plain": [
              "<Figure size 432x288 with 1 Axes>"
            ]
          },
          "metadata": {
            "needs_background": "light"
          },
          "output_type": "display_data"
        }
      ],
      "source": [
        "img = io.imread(os.path.join(train_dir, defect_class_mask_df.ImageId[image_index]))\n",
        "plt.imshow(img)\n",
        "img.shape"
      ]
    },
    {
      "cell_type": "code",
      "execution_count": 24,
      "metadata": {
        "colab": {
          "base_uri": "https://localhost:8080/",
          "height": 1000
        },
        "id": "ZDZhajOg6flc",
        "outputId": "8626263a-f420-40e0-e797-1b86ff6fa3b1"
      },
      "outputs": [
        {
          "data": {
            "image/png": "[encoded data removed]",
            "text/plain": [
              "<Figure size 432x288 with 1 Axes>"
            ]
          },
          "metadata": {
            "needs_background": "light"
          },
          "output_type": "display_data"
        },
        {
          "data": {
            "image/png": "[encoded data removed]",
            "text/plain": [
              "<Figure size 432x288 with 1 Axes>"
            ]
          },
          "metadata": {
            "needs_background": "light"
          },
          "output_type": "display_data"
        },
        {
          "data": {
            "image/png": "[encoded data removed]",
            "text/plain": [
              "<Figure size 432x288 with 1 Axes>"
            ]
          },
          "metadata": {
            "needs_background": "light"
          },
          "output_type": "display_data"
        },
        {
          "data": {
            "image/png": "[encoded data removed]",
            "text/plain": [
              "<Figure size 432x288 with 1 Axes>"
            ]
          },
          "metadata": {
            "needs_background": "light"
          },
          "output_type": "display_data"
        },
        {
          "data": {
            "image/png": "[encoded data removed]",
            "text/plain": [
              "<Figure size 432x288 with 1 Axes>"
            ]
          },
          "metadata": {
            "needs_background": "light"
          },
          "output_type": "display_data"
        },
        {
          "data": {
            "image/png": "[encoded data removed]",
            "text/plain": [
              "<Figure size 432x288 with 1 Axes>"
            ]
          },
          "metadata": {
            "needs_background": "light"
          },
          "output_type": "display_data"
        },
        {
          "data": {
            "image/png": "[encoded data removed]",
            "text/plain": [
              "<Figure size 432x288 with 1 Axes>"
            ]
          },
          "metadata": {
            "needs_background": "light"
          },
          "output_type": "display_data"
        },
        {
          "data": {
            "image/png": "[encoded data removed]",
            "text/plain": [
              "<Figure size 432x288 with 1 Axes>"
            ]
          },
          "metadata": {
            "needs_background": "light"
          },
          "output_type": "display_data"
        },
        {
          "data": {
            "image/png": "[encoded data removed]",
            "text/plain": [
              "<Figure size 432x288 with 1 Axes>"
            ]
          },
          "metadata": {
            "needs_background": "light"
          },
          "output_type": "display_data"
        },
        {
          "data": {
            "image/png": "[encoded data removed]",
            "text/plain": [
              "<Figure size 432x288 with 1 Axes>"
            ]
          },
          "metadata": {
            "needs_background": "light"
          },
          "output_type": "display_data"
        }
      ],
      "source": [
        "for i in range(10):\n",
        "\n",
        "  # Read the images using opencv and converting to rgb format\n",
        "  img = io.imread(os.path.join(train_dir, defect_class_mask_df.ImageId[i]))\n",
        "  img = cv2.cvtColor(img, cv2.COLOR_BGR2RGB)\n",
        "\n",
        "  # Get the mask for the image from rle\n",
        "  mask = rle2mask(defect_class_mask_df.EncodedPixels[i], img.shape[0], img.shape[1])\n",
        "  \n",
        "  # Let's color the pixels with values = 1 \n",
        "  img[mask == 1,1] = 255\n",
        "  plt.figure()\n",
        "  plt.imshow(img)\n",
        "  plt.title(defect_class_mask_df.ClassId[i])\n"
      ]
    },
    {
      "cell_type": "markdown",
      "metadata": {
        "id": "a6SI58F7ySeh"
      },
      "source": [
        "# TASK #4: UNDERSTAND THE THEORY AND INTUITION BEHIND CONVOLUTIONAL NEURAL NETWORKS, RESNETS, AND TRANSFER LEARNING"
      ]
    },
    {
      "cell_type": "markdown",
      "metadata": {
        "id": "CijMDQ9RsWpb"
      },
      "source": [
        "![alt text](https://drive.google.com/uc?id=1HD2FFDD8fonGMyHARfw8ZqaofP3Udek6)"
      ]
    },
    {
      "cell_type": "markdown",
      "metadata": {
        "id": "BhmMxX-LtXkx"
      },
      "source": [
        "![alt text](https://drive.google.com/uc?id=1-HAo3xcPKGoH-gG8495p12o33nUC1j6W)"
      ]
    },
    {
      "cell_type": "markdown",
      "metadata": {
        "id": "qLs_UNX7t5fz"
      },
      "source": [
        "![alt text](https://drive.google.com/uc?id=1NlnzDKgTts_9mXkGU3CkrB9SSeBS2GYE)"
      ]
    },
    {
      "cell_type": "markdown",
      "metadata": {
        "id": "I6sP5t2vt5dc"
      },
      "source": [
        "![alt text](https://drive.google.com/uc?id=1zmzg777lS1PGkTyJXA5fPmrJ9mcKneDi)"
      ]
    },
    {
      "cell_type": "markdown",
      "metadata": {
        "id": "7QbYOy9Xt5aa"
      },
      "source": [
        "![alt text](https://drive.google.com/uc?id=1Fd6xV3NwRAhRdFQN9FDjkumynoqcWCzM)"
      ]
    },
    {
      "cell_type": "markdown",
      "metadata": {
        "id": "QRSLmofOqJ2X"
      },
      "source": [
        "# TASK #5: BUILD AND TRAIN A DEEP LEARNING MODEL TO DETECT WHETHER A DEFECT IS PRESENT IN AN IMAGE OR NOT"
      ]
    },
    {
      "cell_type": "code",
      "execution_count": 25,
      "metadata": {
        "colab": {
          "base_uri": "https://localhost:8080/",
          "height": 402
        },
        "id": "RejG3T3yGP5b",
        "outputId": "0ea93f7d-d466-4da0-9aa6-3edba73f69f6"
      },
      "outputs": [
        {
          "data": {
            "text/html": [
              "<div>\n",
              "<style scoped>\n",
              "    .dataframe tbody tr th:only-of-type {\n",
              "        vertical-align: middle;\n",
              "    }\n",
              "\n",
              "    .dataframe tbody tr th {\n",
              "        vertical-align: top;\n",
              "    }\n",
              "\n",
              "    .dataframe thead th {\n",
              "        text-align: right;\n",
              "    }\n",
              "</style>\n",
              "<table border=\"1\" class=\"dataframe\">\n",
              "  <thead>\n",
              "    <tr style=\"text-align: right;\">\n",
              "      <th></th>\n",
              "      <th>ImageID</th>\n",
              "      <th>label</th>\n",
              "    </tr>\n",
              "  </thead>\n",
              "  <tbody>\n",
              "    <tr>\n",
              "      <th>0</th>\n",
              "      <td>0002cc93b.jpg</td>\n",
              "      <td>1</td>\n",
              "    </tr>\n",
              "    <tr>\n",
              "      <th>1</th>\n",
              "      <td>0007a71bf.jpg</td>\n",
              "      <td>1</td>\n",
              "    </tr>\n",
              "    <tr>\n",
              "      <th>2</th>\n",
              "      <td>000a4bcdd.jpg</td>\n",
              "      <td>1</td>\n",
              "    </tr>\n",
              "    <tr>\n",
              "      <th>3</th>\n",
              "      <td>000f6bf48.jpg</td>\n",
              "      <td>1</td>\n",
              "    </tr>\n",
              "    <tr>\n",
              "      <th>4</th>\n",
              "      <td>0014fce06.jpg</td>\n",
              "      <td>1</td>\n",
              "    </tr>\n",
              "    <tr>\n",
              "      <th>...</th>\n",
              "      <td>...</td>\n",
              "      <td>...</td>\n",
              "    </tr>\n",
              "    <tr>\n",
              "      <th>12992</th>\n",
              "      <td>0482ee1d6.jpg</td>\n",
              "      <td>0</td>\n",
              "    </tr>\n",
              "    <tr>\n",
              "      <th>12993</th>\n",
              "      <td>04802a6c2.jpg</td>\n",
              "      <td>0</td>\n",
              "    </tr>\n",
              "    <tr>\n",
              "      <th>12994</th>\n",
              "      <td>03ae2bc91.jpg</td>\n",
              "      <td>0</td>\n",
              "    </tr>\n",
              "    <tr>\n",
              "      <th>12995</th>\n",
              "      <td>04238d7e3.jpg</td>\n",
              "      <td>0</td>\n",
              "    </tr>\n",
              "    <tr>\n",
              "      <th>12996</th>\n",
              "      <td>023353d24.jpg</td>\n",
              "      <td>0</td>\n",
              "    </tr>\n",
              "  </tbody>\n",
              "</table>\n",
              "<p>12997 rows × 2 columns</p>\n",
              "</div>"
            ],
            "text/plain": [
              "             ImageID  label\n",
              "0      0002cc93b.jpg      1\n",
              "1      0007a71bf.jpg      1\n",
              "2      000a4bcdd.jpg      1\n",
              "3      000f6bf48.jpg      1\n",
              "4      0014fce06.jpg      1\n",
              "...              ...    ...\n",
              "12992  0482ee1d6.jpg      0\n",
              "12993  04802a6c2.jpg      0\n",
              "12994  03ae2bc91.jpg      0\n",
              "12995  04238d7e3.jpg      0\n",
              "12996  023353d24.jpg      0\n",
              "\n",
              "[12997 rows x 2 columns]"
            ]
          },
          "execution_count": 25,
          "metadata": {},
          "output_type": "execute_result"
        }
      ],
      "source": [
        "all_images_df"
      ]
    },
    {
      "cell_type": "code",
      "execution_count": 26,
      "metadata": {
        "id": "obGUGKgs0NJB"
      },
      "outputs": [],
      "source": [
        "# split the data (defective and non defective) into training and testing \n",
        "from sklearn.model_selection import train_test_split\n",
        "train, test = train_test_split(all_images_df, test_size=0.15)"
      ]
    },
    {
      "cell_type": "code",
      "execution_count": 27,
      "metadata": {
        "colab": {
          "base_uri": "https://localhost:8080/",
          "height": 34
        },
        "id": "Jy6vCw-GGZrP",
        "outputId": "5624b7e2-7d9a-4fb7-9363-db99637ffe89"
      },
      "outputs": [
        {
          "data": {
            "text/plain": [
              "(11047, 2)"
            ]
          },
          "execution_count": 27,
          "metadata": {},
          "output_type": "execute_result"
        }
      ],
      "source": [
        "train.shape"
      ]
    },
    {
      "cell_type": "code",
      "execution_count": 28,
      "metadata": {
        "colab": {
          "base_uri": "https://localhost:8080/",
          "height": 34
        },
        "id": "79ethEGBGZpJ",
        "outputId": "361a399b-1cd9-448a-bb6c-2036d56d70ac"
      },
      "outputs": [
        {
          "data": {
            "text/plain": [
              "(1950, 2)"
            ]
          },
          "execution_count": 28,
          "metadata": {},
          "output_type": "execute_result"
        }
      ],
      "source": [
        "test.shape"
      ]
    },
    {
      "cell_type": "code",
      "execution_count": 29,
      "metadata": {
        "id": "2QEOhBwtIKVv"
      },
      "outputs": [],
      "source": [
        "train_dir = 'train_images'\n"
      ]
    },
    {
      "cell_type": "code",
      "execution_count": 30,
      "metadata": {
        "colab": {
          "base_uri": "https://localhost:8080/",
          "height": 50
        },
        "id": "o2JD_rBGGZmg",
        "outputId": "96140f57-ae85-4958-c092-ca486a1ae496"
      },
      "outputs": [
        {
          "name": "stdout",
          "output_type": "stream",
          "text": [
            "Found 9390 validated image filenames.\n",
            "Found 1657 validated image filenames.\n"
          ]
        }
      ],
      "source": [
        "# create a image generator for the training and validation dataset\n",
        "# we will divide the data to training, validation and testing\n",
        "# Training = 9390 \n",
        "# validation = 1657 \n",
        "# testing = 1950 \n",
        "\n",
        "from keras_preprocessing.image import ImageDataGenerator\n",
        "\n",
        "# Create a data generator which scales the data from 0 to 1 and makes validation split of 0.15\n",
        "datagen = ImageDataGenerator(rescale=1./255., validation_split = 0.15)\n",
        "\n",
        "train_generator = datagen.flow_from_dataframe(\n",
        "dataframe = train,\n",
        "directory = train_dir,\n",
        "x_col = \"ImageID\",\n",
        "y_col = \"label\",\n",
        "subset = \"training\",\n",
        "batch_size = 16,\n",
        "shuffle = True,\n",
        "class_mode = \"other\",\n",
        "target_size = (256, 256))\n",
        "\n",
        "\n",
        "valid_generator = datagen.flow_from_dataframe(\n",
        "dataframe = train,\n",
        "directory = train_dir,\n",
        "x_col = \"ImageID\",\n",
        "y_col = \"label\",\n",
        "subset = \"validation\",\n",
        "batch_size = 16,\n",
        "shuffle = True,\n",
        "class_mode = \"other\",\n",
        "target_size = (256, 256))\n"
      ]
    },
    {
      "cell_type": "code",
      "execution_count": 31,
      "metadata": {
        "colab": {
          "base_uri": "https://localhost:8080/",
          "height": 34
        },
        "id": "nHpRFqN3HYZ8",
        "outputId": "19bae4f4-85fb-4a6a-e3f9-f902e78ca3ad"
      },
      "outputs": [
        {
          "name": "stdout",
          "output_type": "stream",
          "text": [
            "Found 1950 validated image filenames.\n"
          ]
        }
      ],
      "source": [
        "# Create a data generator for test images\n",
        "test_datagen = ImageDataGenerator(rescale=1./255.)\n",
        "\n",
        "test_generator = test_datagen.flow_from_dataframe(\n",
        "dataframe = test,\n",
        "directory = train_dir,\n",
        "x_col = \"ImageID\",\n",
        "y_col = None,\n",
        "batch_size = 16,\n",
        "shuffle = False,\n",
        "class_mode = None,\n",
        "target_size = (256, 256))\n",
        "\n"
      ]
    },
    {
      "cell_type": "code",
      "execution_count": 32,
      "metadata": {
        "colab": {
          "base_uri": "https://localhost:8080/",
          "height": 50
        },
        "id": "8zq7zMBexYsV",
        "outputId": "5108081a-daf5-44b3-e65a-b8d73feb3ec3"
      },
      "outputs": [],
      "source": [
        "basemodel = ResNet50(weights = 'imagenet', include_top = False, input_tensor = Input(shape=(256,256,3)))"
      ]
    },
    {
      "cell_type": "code",
      "execution_count": 33,
      "metadata": {
        "colab": {
          "base_uri": "https://localhost:8080/",
          "height": 1000
        },
        "id": "dBVhEydjxYkb",
        "outputId": "ea2932a8-5271-4da3-e899-71604b3ec7e1"
      },
      "outputs": [
        {
          "name": "stdout",
          "output_type": "stream",
          "text": [
            "Model: \"resnet50\"\n",
            "__________________________________________________________________________________________________\n",
            " Layer (type)                   Output Shape         Param #     Connected to                     \n",
            "==================================================================================================\n",
            " input_1 (InputLayer)           [(None, 256, 256, 3  0           []                               \n",
            "                                )]                                                                \n",
            "                                                                                                  \n",
            " conv1_pad (ZeroPadding2D)      (None, 262, 262, 3)  0           ['input_1[0][0]']                \n",
            "                                                                                                  \n",
            " conv1_conv (Conv2D)            (None, 128, 128, 64  9472        ['conv1_pad[0][0]']              \n",
            "                                )                                                                 \n",
            "                                                                                                  \n",
            " conv1_bn (BatchNormalization)  (None, 128, 128, 64  256         ['conv1_conv[0][0]']             \n",
            "                                )                                                                 \n",
            "                                                                                                  \n",
            " conv1_relu (Activation)        (None, 128, 128, 64  0           ['conv1_bn[0][0]']               \n",
            "                                )                                                                 \n",
            "                                                                                                  \n",
            " pool1_pad (ZeroPadding2D)      (None, 130, 130, 64  0           ['conv1_relu[0][0]']             \n",
            "                                )                                                                 \n",
            "                                                                                                  \n",
            " pool1_pool (MaxPooling2D)      (None, 64, 64, 64)   0           ['pool1_pad[0][0]']              \n",
            "                                                                                                  \n",
            " conv2_block1_1_conv (Conv2D)   (None, 64, 64, 64)   4160        ['pool1_pool[0][0]']             \n",
            "                                                                                                  \n",
            " conv2_block1_1_bn (BatchNormal  (None, 64, 64, 64)  256         ['conv2_block1_1_conv[0][0]']    \n",
            " ization)                                                                                         \n",
            "                                                                                                  \n",
            " conv2_block1_1_relu (Activatio  (None, 64, 64, 64)  0           ['conv2_block1_1_bn[0][0]']      \n",
            " n)                                                                                               \n",
            "                                                                                                  \n",
            " conv2_block1_2_conv (Conv2D)   (None, 64, 64, 64)   36928       ['conv2_block1_1_relu[0][0]']    \n",
            "                                                                                                  \n",
            " conv2_block1_2_bn (BatchNormal  (None, 64, 64, 64)  256         ['conv2_block1_2_conv[0][0]']    \n",
            " ization)                                                                                         \n",
            "                                                                                                  \n",
            " conv2_block1_2_relu (Activatio  (None, 64, 64, 64)  0           ['conv2_block1_2_bn[0][0]']      \n",
            " n)                                                                                               \n",
            "                                                                                                  \n",
            " conv2_block1_0_conv (Conv2D)   (None, 64, 64, 256)  16640       ['pool1_pool[0][0]']             \n",
            "                                                                                                  \n",
            " conv2_block1_3_conv (Conv2D)   (None, 64, 64, 256)  16640       ['conv2_block1_2_relu[0][0]']    \n",
            "                                                                                                  \n",
            " conv2_block1_0_bn (BatchNormal  (None, 64, 64, 256)  1024       ['conv2_block1_0_conv[0][0]']    \n",
            " ization)                                                                                         \n",
            "                                                                                                  \n",
            " conv2_block1_3_bn (BatchNormal  (None, 64, 64, 256)  1024       ['conv2_block1_3_conv[0][0]']    \n",
            " ization)                                                                                         \n",
            "                                                                                                  \n",
            " conv2_block1_add (Add)         (None, 64, 64, 256)  0           ['conv2_block1_0_bn[0][0]',      \n",
            "                                                                  'conv2_block1_3_bn[0][0]']      \n",
            "                                                                                                  \n",
            " conv2_block1_out (Activation)  (None, 64, 64, 256)  0           ['conv2_block1_add[0][0]']       \n",
            "                                                                                                  \n",
            " conv2_block2_1_conv (Conv2D)   (None, 64, 64, 64)   16448       ['conv2_block1_out[0][0]']       \n",
            "                                                                                                  \n",
            " conv2_block2_1_bn (BatchNormal  (None, 64, 64, 64)  256         ['conv2_block2_1_conv[0][0]']    \n",
            " ization)                                                                                         \n",
            "                                                                                                  \n",
            " conv2_block2_1_relu (Activatio  (None, 64, 64, 64)  0           ['conv2_block2_1_bn[0][0]']      \n",
            " n)                                                                                               \n",
            "                                                                                                  \n",
            " conv2_block2_2_conv (Conv2D)   (None, 64, 64, 64)   36928       ['conv2_block2_1_relu[0][0]']    \n",
            "                                                                                                  \n",
            " conv2_block2_2_bn (BatchNormal  (None, 64, 64, 64)  256         ['conv2_block2_2_conv[0][0]']    \n",
            " ization)                                                                                         \n",
            "                                                                                                  \n",
            " conv2_block2_2_relu (Activatio  (None, 64, 64, 64)  0           ['conv2_block2_2_bn[0][0]']      \n",
            " n)                                                                                               \n",
            "                                                                                                  \n",
            " conv2_block2_3_conv (Conv2D)   (None, 64, 64, 256)  16640       ['conv2_block2_2_relu[0][0]']    \n",
            "                                                                                                  \n",
            " conv2_block2_3_bn (BatchNormal  (None, 64, 64, 256)  1024       ['conv2_block2_3_conv[0][0]']    \n",
            " ization)                                                                                         \n",
            "                                                                                                  \n",
            " conv2_block2_add (Add)         (None, 64, 64, 256)  0           ['conv2_block1_out[0][0]',       \n",
            "                                                                  'conv2_block2_3_bn[0][0]']      \n",
            "                                                                                                  \n",
            " conv2_block2_out (Activation)  (None, 64, 64, 256)  0           ['conv2_block2_add[0][0]']       \n",
            "                                                                                                  \n",
            " conv2_block3_1_conv (Conv2D)   (None, 64, 64, 64)   16448       ['conv2_block2_out[0][0]']       \n",
            "                                                                                                  \n",
            " conv2_block3_1_bn (BatchNormal  (None, 64, 64, 64)  256         ['conv2_block3_1_conv[0][0]']    \n",
            " ization)                                                                                         \n",
            "                                                                                                  \n",
            " conv2_block3_1_relu (Activatio  (None, 64, 64, 64)  0           ['conv2_block3_1_bn[0][0]']      \n",
            " n)                                                                                               \n",
            "                                                                                                  \n",
            " conv2_block3_2_conv (Conv2D)   (None, 64, 64, 64)   36928       ['conv2_block3_1_relu[0][0]']    \n",
            "                                                                                                  \n",
            " conv2_block3_2_bn (BatchNormal  (None, 64, 64, 64)  256         ['conv2_block3_2_conv[0][0]']    \n",
            " ization)                                                                                         \n",
            "                                                                                                  \n",
            " conv2_block3_2_relu (Activatio  (None, 64, 64, 64)  0           ['conv2_block3_2_bn[0][0]']      \n",
            " n)                                                                                               \n",
            "                                                                                                  \n",
            " conv2_block3_3_conv (Conv2D)   (None, 64, 64, 256)  16640       ['conv2_block3_2_relu[0][0]']    \n",
            "                                                                                                  \n",
            " conv2_block3_3_bn (BatchNormal  (None, 64, 64, 256)  1024       ['conv2_block3_3_conv[0][0]']    \n",
            " ization)                                                                                         \n",
            "                                                                                                  \n",
            " conv2_block3_add (Add)         (None, 64, 64, 256)  0           ['conv2_block2_out[0][0]',       \n",
            "                                                                  'conv2_block3_3_bn[0][0]']      \n",
            "                                                                                                  \n",
            " conv2_block3_out (Activation)  (None, 64, 64, 256)  0           ['conv2_block3_add[0][0]']       \n",
            "                                                                                                  \n",
            " conv3_block1_1_conv (Conv2D)   (None, 32, 32, 128)  32896       ['conv2_block3_out[0][0]']       \n",
            "                                                                                                  \n",
            " conv3_block1_1_bn (BatchNormal  (None, 32, 32, 128)  512        ['conv3_block1_1_conv[0][0]']    \n",
            " ization)                                                                                         \n",
            "                                                                                                  \n",
            " conv3_block1_1_relu (Activatio  (None, 32, 32, 128)  0          ['conv3_block1_1_bn[0][0]']      \n",
            " n)                                                                                               \n",
            "                                                                                                  \n",
            " conv3_block1_2_conv (Conv2D)   (None, 32, 32, 128)  147584      ['conv3_block1_1_relu[0][0]']    \n",
            "                                                                                                  \n",
            " conv3_block1_2_bn (BatchNormal  (None, 32, 32, 128)  512        ['conv3_block1_2_conv[0][0]']    \n",
            " ization)                                                                                         \n",
            "                                                                                                  \n",
            " conv3_block1_2_relu (Activatio  (None, 32, 32, 128)  0          ['conv3_block1_2_bn[0][0]']      \n",
            " n)                                                                                               \n",
            "                                                                                                  \n",
            " conv3_block1_0_conv (Conv2D)   (None, 32, 32, 512)  131584      ['conv2_block3_out[0][0]']       \n",
            "                                                                                                  \n",
            " conv3_block1_3_conv (Conv2D)   (None, 32, 32, 512)  66048       ['conv3_block1_2_relu[0][0]']    \n",
            "                                                                                                  \n",
            " conv3_block1_0_bn (BatchNormal  (None, 32, 32, 512)  2048       ['conv3_block1_0_conv[0][0]']    \n",
            " ization)                                                                                         \n",
            "                                                                                                  \n",
            " conv3_block1_3_bn (BatchNormal  (None, 32, 32, 512)  2048       ['conv3_block1_3_conv[0][0]']    \n",
            " ization)                                                                                         \n",
            "                                                                                                  \n",
            " conv3_block1_add (Add)         (None, 32, 32, 512)  0           ['conv3_block1_0_bn[0][0]',      \n",
            "                                                                  'conv3_block1_3_bn[0][0]']      \n",
            "                                                                                                  \n",
            " conv3_block1_out (Activation)  (None, 32, 32, 512)  0           ['conv3_block1_add[0][0]']       \n",
            "                                                                                                  \n",
            " conv3_block2_1_conv (Conv2D)   (None, 32, 32, 128)  65664       ['conv3_block1_out[0][0]']       \n",
            "                                                                                                  \n",
            " conv3_block2_1_bn (BatchNormal  (None, 32, 32, 128)  512        ['conv3_block2_1_conv[0][0]']    \n",
            " ization)                                                                                         \n",
            "                                                                                                  \n",
            " conv3_block2_1_relu (Activatio  (None, 32, 32, 128)  0          ['conv3_block2_1_bn[0][0]']      \n",
            " n)                                                                                               \n",
            "                                                                                                  \n",
            " conv3_block2_2_conv (Conv2D)   (None, 32, 32, 128)  147584      ['conv3_block2_1_relu[0][0]']    \n",
            "                                                                                                  \n",
            " conv3_block2_2_bn (BatchNormal  (None, 32, 32, 128)  512        ['conv3_block2_2_conv[0][0]']    \n",
            " ization)                                                                                         \n",
            "                                                                                                  \n",
            " conv3_block2_2_relu (Activatio  (None, 32, 32, 128)  0          ['conv3_block2_2_bn[0][0]']      \n",
            " n)                                                                                               \n",
            "                                                                                                  \n",
            " conv3_block2_3_conv (Conv2D)   (None, 32, 32, 512)  66048       ['conv3_block2_2_relu[0][0]']    \n",
            "                                                                                                  \n",
            " conv3_block2_3_bn (BatchNormal  (None, 32, 32, 512)  2048       ['conv3_block2_3_conv[0][0]']    \n",
            " ization)                                                                                         \n",
            "                                                                                                  \n",
            " conv3_block2_add (Add)         (None, 32, 32, 512)  0           ['conv3_block1_out[0][0]',       \n",
            "                                                                  'conv3_block2_3_bn[0][0]']      \n",
            "                                                                                                  \n",
            " conv3_block2_out (Activation)  (None, 32, 32, 512)  0           ['conv3_block2_add[0][0]']       \n",
            "                                                                                                  \n",
            " conv3_block3_1_conv (Conv2D)   (None, 32, 32, 128)  65664       ['conv3_block2_out[0][0]']       \n",
            "                                                                                                  \n",
            " conv3_block3_1_bn (BatchNormal  (None, 32, 32, 128)  512        ['conv3_block3_1_conv[0][0]']    \n",
            " ization)                                                                                         \n",
            "                                                                                                  \n",
            " conv3_block3_1_relu (Activatio  (None, 32, 32, 128)  0          ['conv3_block3_1_bn[0][0]']      \n",
            " n)                                                                                               \n",
            "                                                                                                  \n",
            " conv3_block3_2_conv (Conv2D)   (None, 32, 32, 128)  147584      ['conv3_block3_1_relu[0][0]']    \n",
            "                                                                                                  \n",
            " conv3_block3_2_bn (BatchNormal  (None, 32, 32, 128)  512        ['conv3_block3_2_conv[0][0]']    \n",
            " ization)                                                                                         \n",
            "                                                                                                  \n",
            " conv3_block3_2_relu (Activatio  (None, 32, 32, 128)  0          ['conv3_block3_2_bn[0][0]']      \n",
            " n)                                                                                               \n",
            "                                                                                                  \n",
            " conv3_block3_3_conv (Conv2D)   (None, 32, 32, 512)  66048       ['conv3_block3_2_relu[0][0]']    \n",
            "                                                                                                  \n",
            " conv3_block3_3_bn (BatchNormal  (None, 32, 32, 512)  2048       ['conv3_block3_3_conv[0][0]']    \n",
            " ization)                                                                                         \n",
            "                                                                                                  \n",
            " conv3_block3_add (Add)         (None, 32, 32, 512)  0           ['conv3_block2_out[0][0]',       \n",
            "                                                                  'conv3_block3_3_bn[0][0]']      \n",
            "                                                                                                  \n",
            " conv3_block3_out (Activation)  (None, 32, 32, 512)  0           ['conv3_block3_add[0][0]']       \n",
            "                                                                                                  \n",
            " conv3_block4_1_conv (Conv2D)   (None, 32, 32, 128)  65664       ['conv3_block3_out[0][0]']       \n",
            "                                                                                                  \n",
            " conv3_block4_1_bn (BatchNormal  (None, 32, 32, 128)  512        ['conv3_block4_1_conv[0][0]']    \n",
            " ization)                                                                                         \n",
            "                                                                                                  \n",
            " conv3_block4_1_relu (Activatio  (None, 32, 32, 128)  0          ['conv3_block4_1_bn[0][0]']      \n",
            " n)                                                                                               \n",
            "                                                                                                  \n",
            " conv3_block4_2_conv (Conv2D)   (None, 32, 32, 128)  147584      ['conv3_block4_1_relu[0][0]']    \n",
            "                                                                                                  \n",
            " conv3_block4_2_bn (BatchNormal  (None, 32, 32, 128)  512        ['conv3_block4_2_conv[0][0]']    \n",
            " ization)                                                                                         \n",
            "                                                                                                  \n",
            " conv3_block4_2_relu (Activatio  (None, 32, 32, 128)  0          ['conv3_block4_2_bn[0][0]']      \n",
            " n)                                                                                               \n",
            "                                                                                                  \n",
            " conv3_block4_3_conv (Conv2D)   (None, 32, 32, 512)  66048       ['conv3_block4_2_relu[0][0]']    \n",
            "                                                                                                  \n",
            " conv3_block4_3_bn (BatchNormal  (None, 32, 32, 512)  2048       ['conv3_block4_3_conv[0][0]']    \n",
            " ization)                                                                                         \n",
            "                                                                                                  \n",
            " conv3_block4_add (Add)         (None, 32, 32, 512)  0           ['conv3_block3_out[0][0]',       \n",
            "                                                                  'conv3_block4_3_bn[0][0]']      \n",
            "                                                                                                  \n",
            " conv3_block4_out (Activation)  (None, 32, 32, 512)  0           ['conv3_block4_add[0][0]']       \n",
            "                                                                                                  \n",
            " conv4_block1_1_conv (Conv2D)   (None, 16, 16, 256)  131328      ['conv3_block4_out[0][0]']       \n",
            "                                                                                                  \n",
            " conv4_block1_1_bn (BatchNormal  (None, 16, 16, 256)  1024       ['conv4_block1_1_conv[0][0]']    \n",
            " ization)                                                                                         \n",
            "                                                                                                  \n",
            " conv4_block1_1_relu (Activatio  (None, 16, 16, 256)  0          ['conv4_block1_1_bn[0][0]']      \n",
            " n)                                                                                               \n",
            "                                                                                                  \n",
            " conv4_block1_2_conv (Conv2D)   (None, 16, 16, 256)  590080      ['conv4_block1_1_relu[0][0]']    \n",
            "                                                                                                  \n",
            " conv4_block1_2_bn (BatchNormal  (None, 16, 16, 256)  1024       ['conv4_block1_2_conv[0][0]']    \n",
            " ization)                                                                                         \n",
            "                                                                                                  \n",
            " conv4_block1_2_relu (Activatio  (None, 16, 16, 256)  0          ['conv4_block1_2_bn[0][0]']      \n",
            " n)                                                                                               \n",
            "                                                                                                  \n",
            " conv4_block1_0_conv (Conv2D)   (None, 16, 16, 1024  525312      ['conv3_block4_out[0][0]']       \n",
            "                                )                                                                 \n",
            "                                                                                                  \n",
            " conv4_block1_3_conv (Conv2D)   (None, 16, 16, 1024  263168      ['conv4_block1_2_relu[0][0]']    \n",
            "                                )                                                                 \n",
            "                                                                                                  \n",
            " conv4_block1_0_bn (BatchNormal  (None, 16, 16, 1024  4096       ['conv4_block1_0_conv[0][0]']    \n",
            " ization)                       )                                                                 \n",
            "                                                                                                  \n",
            " conv4_block1_3_bn (BatchNormal  (None, 16, 16, 1024  4096       ['conv4_block1_3_conv[0][0]']    \n",
            " ization)                       )                                                                 \n",
            "                                                                                                  \n",
            " conv4_block1_add (Add)         (None, 16, 16, 1024  0           ['conv4_block1_0_bn[0][0]',      \n",
            "                                )                                 'conv4_block1_3_bn[0][0]']      \n",
            "                                                                                                  \n",
            " conv4_block1_out (Activation)  (None, 16, 16, 1024  0           ['conv4_block1_add[0][0]']       \n",
            "                                )                                                                 \n",
            "                                                                                                  \n",
            " conv4_block2_1_conv (Conv2D)   (None, 16, 16, 256)  262400      ['conv4_block1_out[0][0]']       \n",
            "                                                                                                  \n",
            " conv4_block2_1_bn (BatchNormal  (None, 16, 16, 256)  1024       ['conv4_block2_1_conv[0][0]']    \n",
            " ization)                                                                                         \n",
            "                                                                                                  \n",
            " conv4_block2_1_relu (Activatio  (None, 16, 16, 256)  0          ['conv4_block2_1_bn[0][0]']      \n",
            " n)                                                                                               \n",
            "                                                                                                  \n",
            " conv4_block2_2_conv (Conv2D)   (None, 16, 16, 256)  590080      ['conv4_block2_1_relu[0][0]']    \n",
            "                                                                                                  \n",
            " conv4_block2_2_bn (BatchNormal  (None, 16, 16, 256)  1024       ['conv4_block2_2_conv[0][0]']    \n",
            " ization)                                                                                         \n",
            "                                                                                                  \n",
            " conv4_block2_2_relu (Activatio  (None, 16, 16, 256)  0          ['conv4_block2_2_bn[0][0]']      \n",
            " n)                                                                                               \n",
            "                                                                                                  \n",
            " conv4_block2_3_conv (Conv2D)   (None, 16, 16, 1024  263168      ['conv4_block2_2_relu[0][0]']    \n",
            "                                )                                                                 \n",
            "                                                                                                  \n",
            " conv4_block2_3_bn (BatchNormal  (None, 16, 16, 1024  4096       ['conv4_block2_3_conv[0][0]']    \n",
            " ization)                       )                                                                 \n",
            "                                                                                                  \n",
            " conv4_block2_add (Add)         (None, 16, 16, 1024  0           ['conv4_block1_out[0][0]',       \n",
            "                                )                                 'conv4_block2_3_bn[0][0]']      \n",
            "                                                                                                  \n",
            " conv4_block2_out (Activation)  (None, 16, 16, 1024  0           ['conv4_block2_add[0][0]']       \n",
            "                                )                                                                 \n",
            "                                                                                                  \n",
            " conv4_block3_1_conv (Conv2D)   (None, 16, 16, 256)  262400      ['conv4_block2_out[0][0]']       \n",
            "                                                                                                  \n",
            " conv4_block3_1_bn (BatchNormal  (None, 16, 16, 256)  1024       ['conv4_block3_1_conv[0][0]']    \n",
            " ization)                                                                                         \n",
            "                                                                                                  \n",
            " conv4_block3_1_relu (Activatio  (None, 16, 16, 256)  0          ['conv4_block3_1_bn[0][0]']      \n",
            " n)                                                                                               \n",
            "                                                                                                  \n",
            " conv4_block3_2_conv (Conv2D)   (None, 16, 16, 256)  590080      ['conv4_block3_1_relu[0][0]']    \n",
            "                                                                                                  \n",
            " conv4_block3_2_bn (BatchNormal  (None, 16, 16, 256)  1024       ['conv4_block3_2_conv[0][0]']    \n",
            " ization)                                                                                         \n",
            "                                                                                                  \n",
            " conv4_block3_2_relu (Activatio  (None, 16, 16, 256)  0          ['conv4_block3_2_bn[0][0]']      \n",
            " n)                                                                                               \n",
            "                                                                                                  \n",
            " conv4_block3_3_conv (Conv2D)   (None, 16, 16, 1024  263168      ['conv4_block3_2_relu[0][0]']    \n",
            "                                )                                                                 \n",
            "                                                                                                  \n",
            " conv4_block3_3_bn (BatchNormal  (None, 16, 16, 1024  4096       ['conv4_block3_3_conv[0][0]']    \n",
            " ization)                       )                                                                 \n",
            "                                                                                                  \n",
            " conv4_block3_add (Add)         (None, 16, 16, 1024  0           ['conv4_block2_out[0][0]',       \n",
            "                                )                                 'conv4_block3_3_bn[0][0]']      \n",
            "                                                                                                  \n",
            " conv4_block3_out (Activation)  (None, 16, 16, 1024  0           ['conv4_block3_add[0][0]']       \n",
            "                                )                                                                 \n",
            "                                                                                                  \n",
            " conv4_block4_1_conv (Conv2D)   (None, 16, 16, 256)  262400      ['conv4_block3_out[0][0]']       \n",
            "                                                                                                  \n",
            " conv4_block4_1_bn (BatchNormal  (None, 16, 16, 256)  1024       ['conv4_block4_1_conv[0][0]']    \n",
            " ization)                                                                                         \n",
            "                                                                                                  \n",
            " conv4_block4_1_relu (Activatio  (None, 16, 16, 256)  0          ['conv4_block4_1_bn[0][0]']      \n",
            " n)                                                                                               \n",
            "                                                                                                  \n",
            " conv4_block4_2_conv (Conv2D)   (None, 16, 16, 256)  590080      ['conv4_block4_1_relu[0][0]']    \n",
            "                                                                                                  \n",
            " conv4_block4_2_bn (BatchNormal  (None, 16, 16, 256)  1024       ['conv4_block4_2_conv[0][0]']    \n",
            " ization)                                                                                         \n",
            "                                                                                                  \n",
            " conv4_block4_2_relu (Activatio  (None, 16, 16, 256)  0          ['conv4_block4_2_bn[0][0]']      \n",
            " n)                                                                                               \n",
            "                                                                                                  \n",
            " conv4_block4_3_conv (Conv2D)   (None, 16, 16, 1024  263168      ['conv4_block4_2_relu[0][0]']    \n",
            "                                )                                                                 \n",
            "                                                                                                  \n",
            " conv4_block4_3_bn (BatchNormal  (None, 16, 16, 1024  4096       ['conv4_block4_3_conv[0][0]']    \n",
            " ization)                       )                                                                 \n",
            "                                                                                                  \n",
            " conv4_block4_add (Add)         (None, 16, 16, 1024  0           ['conv4_block3_out[0][0]',       \n",
            "                                )                                 'conv4_block4_3_bn[0][0]']      \n",
            "                                                                                                  \n",
            " conv4_block4_out (Activation)  (None, 16, 16, 1024  0           ['conv4_block4_add[0][0]']       \n",
            "                                )                                                                 \n",
            "                                                                                                  \n",
            " conv4_block5_1_conv (Conv2D)   (None, 16, 16, 256)  262400      ['conv4_block4_out[0][0]']       \n",
            "                                                                                                  \n",
            " conv4_block5_1_bn (BatchNormal  (None, 16, 16, 256)  1024       ['conv4_block5_1_conv[0][0]']    \n",
            " ization)                                                                                         \n",
            "                                                                                                  \n",
            " conv4_block5_1_relu (Activatio  (None, 16, 16, 256)  0          ['conv4_block5_1_bn[0][0]']      \n",
            " n)                                                                                               \n",
            "                                                                                                  \n",
            " conv4_block5_2_conv (Conv2D)   (None, 16, 16, 256)  590080      ['conv4_block5_1_relu[0][0]']    \n",
            "                                                                                                  \n",
            " conv4_block5_2_bn (BatchNormal  (None, 16, 16, 256)  1024       ['conv4_block5_2_conv[0][0]']    \n",
            " ization)                                                                                         \n",
            "                                                                                                  \n",
            " conv4_block5_2_relu (Activatio  (None, 16, 16, 256)  0          ['conv4_block5_2_bn[0][0]']      \n",
            " n)                                                                                               \n",
            "                                                                                                  \n",
            " conv4_block5_3_conv (Conv2D)   (None, 16, 16, 1024  263168      ['conv4_block5_2_relu[0][0]']    \n",
            "                                )                                                                 \n",
            "                                                                                                  \n",
            " conv4_block5_3_bn (BatchNormal  (None, 16, 16, 1024  4096       ['conv4_block5_3_conv[0][0]']    \n",
            " ization)                       )                                                                 \n",
            "                                                                                                  \n",
            " conv4_block5_add (Add)         (None, 16, 16, 1024  0           ['conv4_block4_out[0][0]',       \n",
            "                                )                                 'conv4_block5_3_bn[0][0]']      \n",
            "                                                                                                  \n",
            " conv4_block5_out (Activation)  (None, 16, 16, 1024  0           ['conv4_block5_add[0][0]']       \n",
            "                                )                                                                 \n",
            "                                                                                                  \n",
            " conv4_block6_1_conv (Conv2D)   (None, 16, 16, 256)  262400      ['conv4_block5_out[0][0]']       \n",
            "                                                                                                  \n",
            " conv4_block6_1_bn (BatchNormal  (None, 16, 16, 256)  1024       ['conv4_block6_1_conv[0][0]']    \n",
            " ization)                                                                                         \n",
            "                                                                                                  \n",
            " conv4_block6_1_relu (Activatio  (None, 16, 16, 256)  0          ['conv4_block6_1_bn[0][0]']      \n",
            " n)                                                                                               \n",
            "                                                                                                  \n",
            " conv4_block6_2_conv (Conv2D)   (None, 16, 16, 256)  590080      ['conv4_block6_1_relu[0][0]']    \n",
            "                                                                                                  \n",
            " conv4_block6_2_bn (BatchNormal  (None, 16, 16, 256)  1024       ['conv4_block6_2_conv[0][0]']    \n",
            " ization)                                                                                         \n",
            "                                                                                                  \n",
            " conv4_block6_2_relu (Activatio  (None, 16, 16, 256)  0          ['conv4_block6_2_bn[0][0]']      \n",
            " n)                                                                                               \n",
            "                                                                                                  \n",
            " conv4_block6_3_conv (Conv2D)   (None, 16, 16, 1024  263168      ['conv4_block6_2_relu[0][0]']    \n",
            "                                )                                                                 \n",
            "                                                                                                  \n",
            " conv4_block6_3_bn (BatchNormal  (None, 16, 16, 1024  4096       ['conv4_block6_3_conv[0][0]']    \n",
            " ization)                       )                                                                 \n",
            "                                                                                                  \n",
            " conv4_block6_add (Add)         (None, 16, 16, 1024  0           ['conv4_block5_out[0][0]',       \n",
            "                                )                                 'conv4_block6_3_bn[0][0]']      \n",
            "                                                                                                  \n",
            " conv4_block6_out (Activation)  (None, 16, 16, 1024  0           ['conv4_block6_add[0][0]']       \n",
            "                                )                                                                 \n",
            "                                                                                                  \n",
            " conv5_block1_1_conv (Conv2D)   (None, 8, 8, 512)    524800      ['conv4_block6_out[0][0]']       \n",
            "                                                                                                  \n",
            " conv5_block1_1_bn (BatchNormal  (None, 8, 8, 512)   2048        ['conv5_block1_1_conv[0][0]']    \n",
            " ization)                                                                                         \n",
            "                                                                                                  \n",
            " conv5_block1_1_relu (Activatio  (None, 8, 8, 512)   0           ['conv5_block1_1_bn[0][0]']      \n",
            " n)                                                                                               \n",
            "                                                                                                  \n",
            " conv5_block1_2_conv (Conv2D)   (None, 8, 8, 512)    2359808     ['conv5_block1_1_relu[0][0]']    \n",
            "                                                                                                  \n",
            " conv5_block1_2_bn (BatchNormal  (None, 8, 8, 512)   2048        ['conv5_block1_2_conv[0][0]']    \n",
            " ization)                                                                                         \n",
            "                                                                                                  \n",
            " conv5_block1_2_relu (Activatio  (None, 8, 8, 512)   0           ['conv5_block1_2_bn[0][0]']      \n",
            " n)                                                                                               \n",
            "                                                                                                  \n",
            " conv5_block1_0_conv (Conv2D)   (None, 8, 8, 2048)   2099200     ['conv4_block6_out[0][0]']       \n",
            "                                                                                                  \n",
            " conv5_block1_3_conv (Conv2D)   (None, 8, 8, 2048)   1050624     ['conv5_block1_2_relu[0][0]']    \n",
            "                                                                                                  \n",
            " conv5_block1_0_bn (BatchNormal  (None, 8, 8, 2048)  8192        ['conv5_block1_0_conv[0][0]']    \n",
            " ization)                                                                                         \n",
            "                                                                                                  \n",
            " conv5_block1_3_bn (BatchNormal  (None, 8, 8, 2048)  8192        ['conv5_block1_3_conv[0][0]']    \n",
            " ization)                                                                                         \n",
            "                                                                                                  \n",
            " conv5_block1_add (Add)         (None, 8, 8, 2048)   0           ['conv5_block1_0_bn[0][0]',      \n",
            "                                                                  'conv5_block1_3_bn[0][0]']      \n",
            "                                                                                                  \n",
            " conv5_block1_out (Activation)  (None, 8, 8, 2048)   0           ['conv5_block1_add[0][0]']       \n",
            "                                                                                                  \n",
            " conv5_block2_1_conv (Conv2D)   (None, 8, 8, 512)    1049088     ['conv5_block1_out[0][0]']       \n",
            "                                                                                                  \n",
            " conv5_block2_1_bn (BatchNormal  (None, 8, 8, 512)   2048        ['conv5_block2_1_conv[0][0]']    \n",
            " ization)                                                                                         \n",
            "                                                                                                  \n",
            " conv5_block2_1_relu (Activatio  (None, 8, 8, 512)   0           ['conv5_block2_1_bn[0][0]']      \n",
            " n)                                                                                               \n",
            "                                                                                                  \n",
            " conv5_block2_2_conv (Conv2D)   (None, 8, 8, 512)    2359808     ['conv5_block2_1_relu[0][0]']    \n",
            "                                                                                                  \n",
            " conv5_block2_2_bn (BatchNormal  (None, 8, 8, 512)   2048        ['conv5_block2_2_conv[0][0]']    \n",
            " ization)                                                                                         \n",
            "                                                                                                  \n",
            " conv5_block2_2_relu (Activatio  (None, 8, 8, 512)   0           ['conv5_block2_2_bn[0][0]']      \n",
            " n)                                                                                               \n",
            "                                                                                                  \n",
            " conv5_block2_3_conv (Conv2D)   (None, 8, 8, 2048)   1050624     ['conv5_block2_2_relu[0][0]']    \n",
            "                                                                                                  \n",
            " conv5_block2_3_bn (BatchNormal  (None, 8, 8, 2048)  8192        ['conv5_block2_3_conv[0][0]']    \n",
            " ization)                                                                                         \n",
            "                                                                                                  \n",
            " conv5_block2_add (Add)         (None, 8, 8, 2048)   0           ['conv5_block1_out[0][0]',       \n",
            "                                                                  'conv5_block2_3_bn[0][0]']      \n",
            "                                                                                                  \n",
            " conv5_block2_out (Activation)  (None, 8, 8, 2048)   0           ['conv5_block2_add[0][0]']       \n",
            "                                                                                                  \n",
            " conv5_block3_1_conv (Conv2D)   (None, 8, 8, 512)    1049088     ['conv5_block2_out[0][0]']       \n",
            "                                                                                                  \n",
            " conv5_block3_1_bn (BatchNormal  (None, 8, 8, 512)   2048        ['conv5_block3_1_conv[0][0]']    \n",
            " ization)                                                                                         \n",
            "                                                                                                  \n",
            " conv5_block3_1_relu (Activatio  (None, 8, 8, 512)   0           ['conv5_block3_1_bn[0][0]']      \n",
            " n)                                                                                               \n",
            "                                                                                                  \n",
            " conv5_block3_2_conv (Conv2D)   (None, 8, 8, 512)    2359808     ['conv5_block3_1_relu[0][0]']    \n",
            "                                                                                                  \n",
            " conv5_block3_2_bn (BatchNormal  (None, 8, 8, 512)   2048        ['conv5_block3_2_conv[0][0]']    \n",
            " ization)                                                                                         \n",
            "                                                                                                  \n",
            " conv5_block3_2_relu (Activatio  (None, 8, 8, 512)   0           ['conv5_block3_2_bn[0][0]']      \n",
            " n)                                                                                               \n",
            "                                                                                                  \n",
            " conv5_block3_3_conv (Conv2D)   (None, 8, 8, 2048)   1050624     ['conv5_block3_2_relu[0][0]']    \n",
            "                                                                                                  \n",
            " conv5_block3_3_bn (BatchNormal  (None, 8, 8, 2048)  8192        ['conv5_block3_3_conv[0][0]']    \n",
            " ization)                                                                                         \n",
            "                                                                                                  \n",
            " conv5_block3_add (Add)         (None, 8, 8, 2048)   0           ['conv5_block2_out[0][0]',       \n",
            "                                                                  'conv5_block3_3_bn[0][0]']      \n",
            "                                                                                                  \n",
            " conv5_block3_out (Activation)  (None, 8, 8, 2048)   0           ['conv5_block3_add[0][0]']       \n",
            "                                                                                                  \n",
            "==================================================================================================\n",
            "Total params: 23,587,712\n",
            "Trainable params: 23,534,592\n",
            "Non-trainable params: 53,120\n",
            "__________________________________________________________________________________________________\n"
          ]
        }
      ],
      "source": [
        "basemodel.summary()"
      ]
    },
    {
      "cell_type": "code",
      "execution_count": 34,
      "metadata": {
        "id": "IAXdldnsxYah"
      },
      "outputs": [],
      "source": [
        "# freeze the model weights\n",
        "\n",
        "for layer in basemodel.layers:\n",
        "  layers.trainable = False"
      ]
    },
    {
      "cell_type": "code",
      "execution_count": 35,
      "metadata": {
        "id": "jMB7E5Tkxetp"
      },
      "outputs": [],
      "source": [
        "headmodel = basemodel.output\n",
        "headmodel = AveragePooling2D(pool_size = (4,4))(headmodel)\n",
        "headmodel = Flatten(name= 'flatten')(headmodel)\n",
        "headmodel = Dense(256, activation = \"relu\")(headmodel)\n",
        "headmodel = Dropout(0.3)(headmodel)\n",
        "headmodel = Dense(1, activation = 'sigmoid')(headmodel)\n",
        "\n",
        "model = Model(inputs = basemodel.input, outputs = headmodel)"
      ]
    },
    {
      "cell_type": "code",
      "execution_count": 36,
      "metadata": {
        "id": "tXcaYKyvxepG"
      },
      "outputs": [],
      "source": [
        "model.compile(loss = 'binary_crossentropy', optimizer='Nadam', metrics= [\"accuracy\"])"
      ]
    },
    {
      "cell_type": "code",
      "execution_count": 37,
      "metadata": {
        "id": "NtIYCa5CxiCf"
      },
      "outputs": [],
      "source": [
        "# use early stopping to exit training if validation loss is not decreasing even after certain epochs (patience)\n",
        "earlystopping = EarlyStopping(monitor='val_loss', mode='min', verbose=1, patience=20)\n",
        "\n",
        "# save the best model with least validation loss\n",
        "checkpointer = ModelCheckpoint(filepath=\"resnet-weights.hdf5\", verbose=1, save_best_only=True)"
      ]
    },
    {
      "cell_type": "code",
      "execution_count": null,
      "metadata": {
        "colab": {
          "base_uri": "https://localhost:8080/",
          "height": 1000
        },
        "id": "aTmjUR8GxiBI",
        "outputId": "d9ea901b-2a68-45d2-cc2d-bcb779a42756"
      },
      "outputs": [],
      "source": [
        "# (WARNING TAKES LONG TIME (~90 mins)!)\n",
        "history = model.fit_generator(train_generator, steps_per_epoch= train_generator.n // 16, epochs = 40, validation_data= valid_generator, validation_steps= valid_generator.n // 16, callbacks=[checkpointer, earlystopping])"
      ]
    },
    {
      "cell_type": "code",
      "execution_count": null,
      "metadata": {
        "id": "C2p7vb4Cxh8g"
      },
      "outputs": [],
      "source": [
        "# save the trained model architecture for future use\n",
        "\n",
        "model_json = model.to_json()\n",
        "with open(\"resnet-classifier-model.json\",\"w\") as json_file:\n",
        "  json_file.write(model_json)"
      ]
    },
    {
      "cell_type": "markdown",
      "metadata": {
        "id": "Y95MPj3m5Tr1"
      },
      "source": [
        "# TASK #6: ASSESS TRAINED MODEL PERFORMANCE"
      ]
    },
    {
      "cell_type": "code",
      "execution_count": 38,
      "metadata": {
        "id": "A_yya7-p5YsJ"
      },
      "outputs": [],
      "source": [
        "with open('resnet-classifier-model.json', 'r') as json_file:\n",
        "    json_savedModel= json_file.read()\n",
        "# load the model  \n",
        "model = tf.keras.models.model_from_json(json_savedModel)\n",
        "model.load_weights('weights.hdf5')\n",
        "model.compile(loss = 'binary_crossentropy', optimizer='Nadam', metrics= [\"accuracy\"])"
      ]
    },
    {
      "cell_type": "code",
      "execution_count": null,
      "metadata": {
        "colab": {
          "base_uri": "https://localhost:8080/",
          "height": 34
        },
        "id": "p-OlLg_a5YoH",
        "outputId": "405a74c8-6eae-4de3-8014-4eb59749a507"
      },
      "outputs": [],
      "source": [
        "# Make prediction (WARNING TAKES LONG TIME (~10 mins)!)\n",
        "\n",
        "from keras_preprocessing.image import ImageDataGenerator\n",
        "\n",
        "test_predict = model.predict(test_generator, steps = test_generator.n // 16, verbose =1)\n"
      ]
    },
    {
      "cell_type": "code",
      "execution_count": null,
      "metadata": {
        "colab": {
          "base_uri": "https://localhost:8080/",
          "height": 134
        },
        "id": "kA8Fi1Dy9qfZ",
        "outputId": "44e00e3e-3d0c-4bd3-a47e-1e0c4489a801"
      },
      "outputs": [],
      "source": [
        "test_predict"
      ]
    },
    {
      "cell_type": "code",
      "execution_count": null,
      "metadata": {
        "id": "cWNMOYCX5fGI"
      },
      "outputs": [],
      "source": [
        "# Since we have used sigmoid activation at the end, our result would contain continuous values from 0 to 1.\n",
        "# The network is initially used to classify whether the image has defect or not\n",
        "# Then these images (defective) is passed through the segmentation network to get the localization and type of defect. \n",
        "# Let's choose 0.01, to make sure, that we omit images from passing through the segmentation network only we are highly certain that it has no defect and if we are not confident, we can pass this image through the segmentation \n",
        "# network\n",
        "\n",
        "predict = []\n",
        "\n",
        "for i in test_predict:\n",
        "  if i < 0.01: #0.5\n",
        "    predict.append(0)\n",
        "  else:\n",
        "    predict.append(1)\n",
        "\n",
        "predict = np.asarray(predict)"
      ]
    },
    {
      "cell_type": "code",
      "execution_count": null,
      "metadata": {
        "colab": {
          "base_uri": "https://localhost:8080/",
          "height": 34
        },
        "id": "vQFWSO2f5fCS",
        "outputId": "0bfe8465-448a-49b2-b675-042269752542"
      },
      "outputs": [],
      "source": [
        "len(predict)"
      ]
    },
    {
      "cell_type": "code",
      "execution_count": null,
      "metadata": {
        "colab": {
          "base_uri": "https://localhost:8080/",
          "height": 34
        },
        "id": "4vtRFZV_5iJ6",
        "outputId": "59a19816-072f-4cb4-f6f7-30d2dee35efa"
      },
      "outputs": [],
      "source": [
        "# since we have used test generator, it limited the images to 1936, due to batch size\n",
        "\n",
        "original = np.asarray(test.label)[:1936]\n",
        "len(original)"
      ]
    },
    {
      "cell_type": "code",
      "execution_count": null,
      "metadata": {
        "colab": {
          "base_uri": "https://localhost:8080/",
          "height": 34
        },
        "id": "AvCW0Lhn5iIg",
        "outputId": "db1d71a4-5a71-4099-d8de-bf030d2b95f6"
      },
      "outputs": [],
      "source": [
        "# Find the accuracy of the model\n",
        "from sklearn.metrics import accuracy_score\n",
        "\n",
        "accuracy = accuracy_score(original, predict)\n",
        "accuracy"
      ]
    },
    {
      "cell_type": "code",
      "execution_count": null,
      "metadata": {
        "colab": {
          "base_uri": "https://localhost:8080/",
          "height": 445
        },
        "id": "hrnla_fW5iE5",
        "outputId": "81f2eb17-d54c-42da-b14a-4bfe78997303"
      },
      "outputs": [],
      "source": [
        "# Plot the confusion matrix\n",
        "from sklearn.metrics import confusion_matrix\n",
        "\n",
        "cm = confusion_matrix(original, predict)\n",
        "plt.figure(figsize = (7,7))\n",
        "sns.heatmap(cm, annot=True)"
      ]
    },
    {
      "cell_type": "code",
      "execution_count": null,
      "metadata": {
        "colab": {
          "base_uri": "https://localhost:8080/",
          "height": 168
        },
        "id": "L5Ai_jO35oJh",
        "outputId": "c418fe88-ef8f-46d6-dab7-920ad5e25c4e"
      },
      "outputs": [],
      "source": [
        "# Print the classification report\n",
        "\n",
        "from sklearn.metrics import classification_report\n",
        "\n",
        "report = classification_report(original,predict, labels = [0,1])\n",
        "print(report)"
      ]
    },
    {
      "cell_type": "markdown",
      "metadata": {
        "id": "Y0GmpAjG3GiH"
      },
      "source": [
        "# TASK #7: UNDERSTAND THE THEORY AND INTUITION BEHIND RESUNET (SEGMENTATION)"
      ]
    },
    {
      "cell_type": "markdown",
      "metadata": {
        "id": "0Vi1_uJvu7n7"
      },
      "source": [
        "![alt text](https://drive.google.com/uc?id=1D7mAjdEFv6cIb4UFiXwndJy6enzZQzpb)"
      ]
    },
    {
      "cell_type": "markdown",
      "metadata": {
        "id": "vlZRIwoy1DtF"
      },
      "source": [
        "![alt text](https://drive.google.com/uc?id=1TK1Y9gry62NORdA-EjWD8HJadBZMa_sL)"
      ]
    },
    {
      "cell_type": "markdown",
      "metadata": {
        "id": "TcsK2k-Ev5sF"
      },
      "source": [
        "![alt text](https://drive.google.com/uc?id=1vwnusyfXPyO5qYVIr-htXiWWq7OI1-Kj)"
      ]
    },
    {
      "cell_type": "markdown",
      "metadata": {
        "id": "9RVxzHwcv6Cw"
      },
      "source": [
        "![alt text](https://drive.google.com/uc?id=1SaaANhEHpBu_-rmEKWFadnEAQeNrs8-O)"
      ]
    },
    {
      "cell_type": "markdown",
      "metadata": {
        "id": "FKh1zdDx4_RH"
      },
      "source": [
        "# TASK #8: BUILD A RESUNET SEGMENTATION MODEL"
      ]
    },
    {
      "cell_type": "code",
      "execution_count": null,
      "metadata": {
        "id": "ASMCztGD5GXC"
      },
      "outputs": [],
      "source": [
        "#spliting the data into train and test data\n",
        "\n",
        "from sklearn.model_selection import train_test_split\n",
        "\n",
        "X_train, X_val = train_test_split(\n",
        "    defect_class_mask_df, \n",
        "    test_size=0.2)"
      ]
    },
    {
      "cell_type": "code",
      "execution_count": null,
      "metadata": {
        "id": "1x--wEew7fUP"
      },
      "outputs": [],
      "source": [
        "#creating separate list for imageId, classId and rle to pass into the generator\n",
        "\n",
        "train_ids = list(X_train.ImageId)\n",
        "train_class = list(X_train.ClassId)\n",
        "train_rle = list(X_train.EncodedPixels)\n",
        "\n",
        "val_ids = list(X_val.ImageId)\n",
        "val_class = list(X_val.ClassId)\n",
        "val_rle = list(X_val.EncodedPixels)"
      ]
    },
    {
      "cell_type": "code",
      "execution_count": null,
      "metadata": {
        "id": "DHxamV1l7fhs"
      },
      "outputs": [],
      "source": [
        "    from utilities import DataGenerator\n",
        "\n",
        "    #creating image generators\n",
        "\n",
        "    training_generator = DataGenerator(\n",
        "        train_ids,\n",
        "        train_class, \n",
        "        train_rle, \n",
        "        train_dir\n",
        "        )\n",
        "\n",
        "    validation_generator = DataGenerator(\n",
        "        val_ids,\n",
        "        val_class,\n",
        "        val_rle, \n",
        "        train_dir\n",
        "        )\n",
        "\n"
      ]
    },
    {
      "cell_type": "code",
      "execution_count": null,
      "metadata": {
        "id": "86T07x_-7fns"
      },
      "outputs": [],
      "source": [
        "def resblock(X, f):\n",
        "  \n",
        "\n",
        "  # making a copy of input\n",
        "  X_copy = X\n",
        "\n",
        "  # main path\n",
        "  # Read more about he_normal: https://medium.com/@prateekvishnu/xavier-and-he-normal-he-et-al-initialization-8e3d7a087528\n",
        "\n",
        "  X = Conv2D(\n",
        "    f, \n",
        "    kernel_size = (1,1), \n",
        "    strides = (1,1), \n",
        "    kernel_initializer ='he_normal')(X)\n",
        "  X = BatchNormalization()(X)\n",
        "  X = Activation('relu')(X) \n",
        "\n",
        "  X = Conv2D(\n",
        "    f, \n",
        "    kernel_size = (3,3), \n",
        "    strides =(1,1), \n",
        "    padding = 'same', \n",
        "    kernel_initializer ='he_normal')(X)\n",
        "  X = BatchNormalization()(X)\n",
        "\n",
        "  # Short path\n",
        "  # Read more here: https://towardsdatascience.com/understanding-and-coding-a-resnet-in-keras-446d7ff84d33\n",
        "\n",
        "  X_copy = Conv2D(\n",
        "    f, \n",
        "    kernel_size = (1,1), \n",
        "    strides =(1,1), \n",
        "    kernel_initializer ='he_normal')(X_copy)\n",
        "  X_copy = BatchNormalization()(X_copy)\n",
        "\n",
        "  # Adding the output from main path and short path together\n",
        "\n",
        "  X = Add()([X,X_copy])\n",
        "  X = Activation('relu')(X)\n",
        "\n",
        "  return X"
      ]
    },
    {
      "cell_type": "code",
      "execution_count": null,
      "metadata": {
        "id": "VCatuc5N7fck"
      },
      "outputs": [],
      "source": [
        "# function to upscale and concatnating the values passsed\n",
        "def upsample_concat(x, skip):\n",
        "  x = UpSampling2D((2,2))(x)\n",
        "  merge = Concatenate()([x, skip])\n",
        "\n",
        "  return merge"
      ]
    },
    {
      "cell_type": "code",
      "execution_count": null,
      "metadata": {
        "id": "OjBTBsj67l8s"
      },
      "outputs": [],
      "source": [
        "input_shape = (256,256,1)\n",
        "\n",
        "#Input tensor shape\n",
        "X_input = Input(input_shape)\n",
        "\n",
        "#Stage 1\n",
        "conv1_in = Conv2D(\n",
        "    16,\n",
        "    3,\n",
        "    activation= 'relu', \n",
        "    padding = 'same', \n",
        "    kernel_initializer ='he_normal')(X_input)\n",
        "\n",
        "conv1_in = BatchNormalization()(conv1_in)\n",
        "\n",
        "conv1_in = Conv2D(\n",
        "    16,\n",
        "    3,\n",
        "    activation= 'relu', \n",
        "    padding = 'same', \n",
        "    kernel_initializer ='he_normal')(conv1_in)\n",
        "\n",
        "conv1_in = BatchNormalization()(conv1_in)\n",
        "pool_1 = MaxPool2D(pool_size = (2,2))(conv1_in)\n",
        "\n",
        "#Stage 2\n",
        "conv2_in = resblock(pool_1, 32)\n",
        "pool_2 = MaxPool2D(pool_size = (2,2))(conv2_in)\n",
        "\n",
        "#Stage 3\n",
        "conv3_in = resblock(pool_2, 64)\n",
        "pool_3 = MaxPool2D(pool_size = (2,2))(conv3_in)\n",
        "\n",
        "#Stage 4\n",
        "conv4_in = resblock(pool_3, 128)\n",
        "pool_4 = MaxPool2D(pool_size = (2,2))(conv4_in)\n",
        "\n",
        "#Stage 5\n",
        "conv5_in = resblock(pool_4, 256)\n",
        "\n",
        "#Upscale stage 1\n",
        "up_1 = upsample_concat(conv5_in, conv4_in)\n",
        "up_1 = resblock(up_1, 128)\n",
        "\n",
        "#Upscale stage 2\n",
        "up_2 = upsample_concat(up_1, conv3_in)\n",
        "up_2 = resblock(up_2, 64)\n",
        "\n",
        "#Upscale stage 3\n",
        "up_3 = upsample_concat(up_2, conv2_in)\n",
        "up_3 = resblock(up_3, 32)\n",
        "\n",
        "#Upscale stage 4\n",
        "up_4 = upsample_concat(up_3, conv1_in)\n",
        "up_4 = resblock(up_4, 16)\n",
        "\n",
        "#Final Output\n",
        "output = Conv2D(\n",
        "    4, \n",
        "    (1,1), \n",
        "    padding = \"same\", \n",
        "    activation = \"sigmoid\")(up_4)\n",
        "\n",
        "model_seg = Model(inputs = X_input, outputs = output )\n"
      ]
    },
    {
      "cell_type": "markdown",
      "metadata": {
        "id": "N-ipz-N_8ftR"
      },
      "source": [
        "## Loss function:\n",
        " \n",
        "We need a custom loss function to train this ResUNet.So,  we have used the loss function as it is from https://github.com/nabsabraham/focal-tversky-unet/blob/master/losses.py\n",
        "\n",
        "\n",
        "@article{focal-unet,\n",
        "  title={A novel Focal Tversky loss function with improved Attention U-Net for lesion segmentation},\n",
        "  author={Abraham, Nabila and Khan, Naimul Mefraz},\n",
        "  journal={arXiv preprint arXiv:1810.07842},\n",
        "  year={2018}\n",
        "}"
      ]
    },
    {
      "cell_type": "code",
      "execution_count": null,
      "metadata": {
        "colab": {
          "base_uri": "https://localhost:8080/",
          "height": 34
        },
        "id": "5t8rk_wY7l3O",
        "outputId": "ec6bccc0-d7f8-414f-cae1-3ec3b22f490c"
      },
      "outputs": [],
      "source": [
        "\n",
        "\n",
        "from utilities import focal_tversky, tversky_loss, tversky"
      ]
    },
    {
      "cell_type": "code",
      "execution_count": null,
      "metadata": {
        "id": "xHrYV3wU8llA"
      },
      "outputs": [],
      "source": [
        "adam = tf.keras.optimizers.Adam(\n",
        "    lr = 0.05, \n",
        "    epsilon = 0.1)\n",
        "\n",
        "model_seg.compile(\n",
        "    optimizer = adam, \n",
        "    loss = focal_tversky, \n",
        "    metrics = [tversky])"
      ]
    },
    {
      "cell_type": "code",
      "execution_count": null,
      "metadata": {
        "id": "ykx7wl658lj4"
      },
      "outputs": [],
      "source": [
        "# using early stopping to exit training if validation loss is not decreasing even after certain epochs (patience)\n",
        "earlystopping = EarlyStopping(\n",
        "    monitor='val_loss',\n",
        "    mode='min', \n",
        "    verbose=1, \n",
        "    patience=20)\n",
        "\n",
        "# save the best model with lower validation loss\n",
        "checkpointer = ModelCheckpoint(\n",
        "    filepath=\"resunet-segmentation-weights.hdf5\", \n",
        "    verbose=1, \n",
        "    save_best_only=True)"
      ]
    },
    {
      "cell_type": "code",
      "execution_count": null,
      "metadata": {
        "colab": {
          "base_uri": "https://localhost:8080/",
          "height": 1000
        },
        "id": "A_lmECI58le6",
        "outputId": "1e3419dd-7c0c-46f5-e159-570e08a7ae0e"
      },
      "outputs": [],
      "source": [
        "history = model_seg.fit_generator(\n",
        "    training_generator, \n",
        "    epochs = 40, \n",
        "    validation_data= validation_generator,\n",
        "    callbacks=[checkpointer, earlystopping]\n",
        "    )"
      ]
    },
    {
      "cell_type": "code",
      "execution_count": null,
      "metadata": {
        "id": "jwz9H_Xi8rCb"
      },
      "outputs": [],
      "source": [
        "# save the model for future use\n",
        "\n",
        "model_json = model_seg.to_json()\n",
        "with open(\"resunet-segmentation-model.json\",\"w\") as json_file:\n",
        "  json_file.write(model_json)"
      ]
    },
    {
      "cell_type": "markdown",
      "metadata": {
        "id": "KCnoC_QY9LNa"
      },
      "source": [
        "# TASK #9: ASSESS TRAINED SEGMENTATION MODEL PERFORMANCE"
      ]
    },
    {
      "cell_type": "code",
      "execution_count": null,
      "metadata": {
        "id": "P16wn7yh9jtN"
      },
      "outputs": [],
      "source": [
        "from utilities import focal_tversky, tversky_loss, tversky\n",
        "\n",
        "with open('resunet-segmentation-model.json', 'r') as json_file:\n",
        "    json_savedModel= json_file.read()\n",
        "\n",
        "# load the model  \n",
        "model_seg = tf.keras.models.model_from_json(json_savedModel)\n",
        "model_seg.load_weights('weights_seg.hdf5')\n",
        "adam = tf.keras.optimizers.Adam(lr = 0.05, epsilon = 0.1)\n",
        "model_seg.compile(optimizer = adam, loss = focal_tversky, metrics = [tversky])"
      ]
    },
    {
      "cell_type": "code",
      "execution_count": null,
      "metadata": {
        "id": "-1_9kk6rXMVS"
      },
      "outputs": [],
      "source": [
        "# data containing test images for segmentation task \n",
        "test_df = pd.read_csv('test.csv')\n"
      ]
    },
    {
      "cell_type": "code",
      "execution_count": null,
      "metadata": {
        "colab": {
          "base_uri": "https://localhost:8080/",
          "height": 402
        },
        "id": "0TlBCIckXMTZ",
        "outputId": "3c58dda4-6e84-4180-9387-448696d55151"
      },
      "outputs": [],
      "source": [
        "test_df"
      ]
    },
    {
      "cell_type": "code",
      "execution_count": null,
      "metadata": {
        "colab": {
          "base_uri": "https://localhost:8080/",
          "height": 218
        },
        "id": "dVFRKgBujup0",
        "outputId": "fbc5a0fb-c552-44c3-aa84-ad46cb7a4956"
      },
      "outputs": [],
      "source": [
        "test_df.ImageId"
      ]
    },
    {
      "cell_type": "code",
      "execution_count": null,
      "metadata": {
        "id": "vEICzTHWXMRZ"
      },
      "outputs": [],
      "source": [
        "from utilities import prediction\n",
        "\n",
        "# make prediction\n",
        "image_id, defect_type, mask = prediction(test_df, model, model_seg)"
      ]
    },
    {
      "cell_type": "code",
      "execution_count": null,
      "metadata": {
        "colab": {
          "base_uri": "https://localhost:8080/",
          "height": 195
        },
        "id": "Q8flvRPFXPdw",
        "outputId": "0aa7f2dd-e45b-419e-d767-640496d838b2"
      },
      "outputs": [],
      "source": [
        "# create a dataframe for the result\n",
        "df_pred= pd.DataFrame({'ImageId': image_id,'EncodedPixels': mask,'ClassId': defect_type})\n",
        "df_pred.head()"
      ]
    },
    {
      "cell_type": "code",
      "execution_count": null,
      "metadata": {
        "colab": {
          "base_uri": "https://localhost:8080/",
          "height": 1000
        },
        "id": "HE4c8jZ4XPiQ",
        "outputId": "1185d02d-ab22-4850-db7f-b18b1161d3c0"
      },
      "outputs": [],
      "source": [
        "# Let's show the images along with their original (ground truth) masks\n",
        "for i in range(10):\n",
        "\n",
        "  # read the images using opencv and convert them to rgb format\n",
        "  img = io.imread(os.path.join(train_dir,test_df.ImageId[i]))\n",
        "  img = cv2.cvtColor(img, cv2.COLOR_BGR2RGB)\n",
        "\n",
        "  # Obtain mask for the image from rle\n",
        "  mask = rle2mask(test_df.EncodedPixels[i],img.shape[0],img.shape[1])\n",
        "\n",
        "  img[mask == 1,1] = 255\n",
        "  plt.figure()\n",
        "  plt.title(test_df.ClassId[i])\n",
        "  plt.imshow(img)"
      ]
    },
    {
      "cell_type": "code",
      "execution_count": null,
      "metadata": {
        "colab": {
          "base_uri": "https://localhost:8080/",
          "height": 1000
        },
        "id": "3yIWeyObXPnA",
        "outputId": "d9c87d10-babf-4b18-fb21-a8ccbe58acd1"
      },
      "outputs": [],
      "source": [
        "# visualize the results (model predictions)\n",
        "\n",
        "directory = \"train_images\"\n",
        "\n",
        "for i in range(10):\n",
        "\n",
        "  # read the images using opencv and convert to rgb format\n",
        "  img = io.imread(os.path.join(directory,df_pred.ImageId[i]))\n",
        "  img = cv2.cvtColor(img, cv2.COLOR_BGR2RGB)\n",
        "\n",
        "  # get the mask for the image from rle\n",
        "  mask = rle2mask(df_pred.EncodedPixels[i],img.shape[0],img.shape[1])\n",
        "  \n",
        "  img[mask == 1,0] = 255\n",
        "  plt.figure()\n",
        "  plt.title(df_pred.ClassId[i])\n",
        "  plt.imshow(img)"
      ]
    },
    {
      "cell_type": "markdown",
      "metadata": {
        "id": "1MvHX6lB9mkw"
      },
      "source": [
        "# EXCELLENT JOB! "
      ]
    }
  ],
  "metadata": {
    "accelerator": "GPU",
    "colab": {
      "collapsed_sections": [],
      "name": "Maintenance & Manufacturing Department",
      "provenance": []
    },
    "kernelspec": {
      "display_name": "Python 3",
      "name": "python3"
    },
    "language_info": {
      "codemirror_mode": {
        "name": "ipython",
        "version": 3
      },
      "file_extension": ".py",
      "mimetype": "text/x-python",
      "name": "python",
      "nbconvert_exporter": "python",
      "pygments_lexer": "ipython3",
      "version": "3.9.7"
    }
  },
  "nbformat": 4,
  "nbformat_minor": 0
}
